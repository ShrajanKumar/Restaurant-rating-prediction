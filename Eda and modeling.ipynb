{
 "cells": [
  {
   "cell_type": "markdown",
   "id": "11336501",
   "metadata": {},
   "source": [
    "### Exploratory Data ANalysis And Model building"
   ]
  },
  {
   "cell_type": "code",
   "execution_count": 6,
   "id": "84a06e3d",
   "metadata": {},
   "outputs": [],
   "source": [
    "# Importing Libraries:\n",
    "import numpy as np  #NumPy is a general-purpose array-processing package.\n",
    "import pandas as pd  #It contains high-level data structures and manipulation tools designed to make data analysis fast and easy\n",
    "import matplotlib.pyplot as plt  #It is a Plotting Library.\n",
    "import re\n",
    "import seaborn as sns  #Seaborn is a Python data visualization library based on matplotlib.\n",
    "from sklearn.linear_model import LinearRegression  #Linear Regression is a regression algorithm.\n",
    "from sklearn.ensemble import RandomForestRegressor, ExtraTreesRegressor\n",
    "from sklearn.tree import DecisionTreeRegressor\n",
    "from sklearn.model_selection import train_test_split #Splitting of Dataset.\n",
    "from sklearn.svm import SVR\n",
    "from sklearn.model_selection import GridSearchCV\n",
    "from sklearn.neighbors import KNeighborsRegressor\n",
    "from sklearn.metrics import r2_score\n",
    "from sklearn import neighbors\n",
    "import warnings\n",
    "warnings.filterwarnings(\"ignore\")"
   ]
  },
  {
   "cell_type": "code",
   "execution_count": 7,
   "id": "6c148476",
   "metadata": {},
   "outputs": [],
   "source": [
    "dt=pd.read_csv(\"cleaned_data.csv\")"
   ]
  },
  {
   "cell_type": "code",
   "execution_count": 8,
   "id": "6c15aef3",
   "metadata": {},
   "outputs": [
    {
     "data": {
      "text/html": [
       "<div>\n",
       "<style scoped>\n",
       "    .dataframe tbody tr th:only-of-type {\n",
       "        vertical-align: middle;\n",
       "    }\n",
       "\n",
       "    .dataframe tbody tr th {\n",
       "        vertical-align: top;\n",
       "    }\n",
       "\n",
       "    .dataframe thead th {\n",
       "        text-align: right;\n",
       "    }\n",
       "</style>\n",
       "<table border=\"1\" class=\"dataframe\">\n",
       "  <thead>\n",
       "    <tr style=\"text-align: right;\">\n",
       "      <th></th>\n",
       "      <th>Unnamed: 0</th>\n",
       "      <th>index</th>\n",
       "      <th>name</th>\n",
       "      <th>online_order</th>\n",
       "      <th>book_table</th>\n",
       "      <th>rate</th>\n",
       "      <th>votes</th>\n",
       "      <th>location</th>\n",
       "      <th>rest_type</th>\n",
       "      <th>dish_liked</th>\n",
       "      <th>cuisines</th>\n",
       "      <th>approx_cost(for two people)</th>\n",
       "      <th>reviews_list</th>\n",
       "      <th>menu_item</th>\n",
       "      <th>listed_in(type)</th>\n",
       "      <th>listed_in(city)</th>\n",
       "    </tr>\n",
       "  </thead>\n",
       "  <tbody>\n",
       "    <tr>\n",
       "      <th>0</th>\n",
       "      <td>0</td>\n",
       "      <td>0</td>\n",
       "      <td>jalsa</td>\n",
       "      <td>yes</td>\n",
       "      <td>yes</td>\n",
       "      <td>4.1</td>\n",
       "      <td>775</td>\n",
       "      <td>banashankari</td>\n",
       "      <td>casual_dining</td>\n",
       "      <td>pastalunch_buffetmasala_papadpaneer_lajawabtom...</td>\n",
       "      <td>north_indian mughlai chinese</td>\n",
       "      <td>800.0</td>\n",
       "      <td>no_reviews</td>\n",
       "      <td>unknown</td>\n",
       "      <td>buffet</td>\n",
       "      <td>banashankari</td>\n",
       "    </tr>\n",
       "    <tr>\n",
       "      <th>1</th>\n",
       "      <td>1</td>\n",
       "      <td>1</td>\n",
       "      <td>spice elephant</td>\n",
       "      <td>yes</td>\n",
       "      <td>no</td>\n",
       "      <td>4.1</td>\n",
       "      <td>787</td>\n",
       "      <td>banashankari</td>\n",
       "      <td>casual_dining</td>\n",
       "      <td>momoslunch_buffetchocolate_nirvanathai_green_c...</td>\n",
       "      <td>chinesenorth_indian thai</td>\n",
       "      <td>800.0</td>\n",
       "      <td>no_reviews</td>\n",
       "      <td>unknown</td>\n",
       "      <td>buffet</td>\n",
       "      <td>banashankari</td>\n",
       "    </tr>\n",
       "    <tr>\n",
       "      <th>2</th>\n",
       "      <td>2</td>\n",
       "      <td>2</td>\n",
       "      <td>san churro cafe</td>\n",
       "      <td>yes</td>\n",
       "      <td>no</td>\n",
       "      <td>3.8</td>\n",
       "      <td>918</td>\n",
       "      <td>banashankari</td>\n",
       "      <td>cafecasual_dining</td>\n",
       "      <td>churros cannelloniminestrone_souphot_chocolate...</td>\n",
       "      <td>cafe mexican italian</td>\n",
       "      <td>800.0</td>\n",
       "      <td>no_reviews</td>\n",
       "      <td>unknown</td>\n",
       "      <td>buffet</td>\n",
       "      <td>banashankari</td>\n",
       "    </tr>\n",
       "    <tr>\n",
       "      <th>3</th>\n",
       "      <td>3</td>\n",
       "      <td>3</td>\n",
       "      <td>addhuri udupi bhojana</td>\n",
       "      <td>no</td>\n",
       "      <td>no</td>\n",
       "      <td>3.7</td>\n",
       "      <td>88</td>\n",
       "      <td>banashankari</td>\n",
       "      <td>quick_bites</td>\n",
       "      <td>masala_dosa</td>\n",
       "      <td>south_indiannorth_indian</td>\n",
       "      <td>300.0</td>\n",
       "      <td>no_reviews</td>\n",
       "      <td>unknown</td>\n",
       "      <td>buffet</td>\n",
       "      <td>banashankari</td>\n",
       "    </tr>\n",
       "    <tr>\n",
       "      <th>4</th>\n",
       "      <td>4</td>\n",
       "      <td>4</td>\n",
       "      <td>grand village</td>\n",
       "      <td>no</td>\n",
       "      <td>no</td>\n",
       "      <td>3.8</td>\n",
       "      <td>166</td>\n",
       "      <td>basavanagudi</td>\n",
       "      <td>casual_dining</td>\n",
       "      <td>panipurigol_gappe</td>\n",
       "      <td>north_indian rajasthani</td>\n",
       "      <td>600.0</td>\n",
       "      <td>no_reviews</td>\n",
       "      <td>unknown</td>\n",
       "      <td>buffet</td>\n",
       "      <td>banashankari</td>\n",
       "    </tr>\n",
       "  </tbody>\n",
       "</table>\n",
       "</div>"
      ],
      "text/plain": [
       "   Unnamed: 0  index                   name online_order book_table  rate  \\\n",
       "0           0      0                  jalsa          yes        yes   4.1   \n",
       "1           1      1         spice elephant          yes         no   4.1   \n",
       "2           2      2        san churro cafe          yes         no   3.8   \n",
       "3           3      3  addhuri udupi bhojana           no         no   3.7   \n",
       "4           4      4          grand village           no         no   3.8   \n",
       "\n",
       "   votes      location          rest_type  \\\n",
       "0    775  banashankari      casual_dining   \n",
       "1    787  banashankari      casual_dining   \n",
       "2    918  banashankari  cafecasual_dining   \n",
       "3     88  banashankari        quick_bites   \n",
       "4    166  basavanagudi      casual_dining   \n",
       "\n",
       "                                          dish_liked  \\\n",
       "0  pastalunch_buffetmasala_papadpaneer_lajawabtom...   \n",
       "1  momoslunch_buffetchocolate_nirvanathai_green_c...   \n",
       "2  churros cannelloniminestrone_souphot_chocolate...   \n",
       "3                                        masala_dosa   \n",
       "4                                  panipurigol_gappe   \n",
       "\n",
       "                       cuisines  approx_cost(for two people) reviews_list  \\\n",
       "0  north_indian mughlai chinese                        800.0   no_reviews   \n",
       "1      chinesenorth_indian thai                        800.0   no_reviews   \n",
       "2          cafe mexican italian                        800.0   no_reviews   \n",
       "3      south_indiannorth_indian                        300.0   no_reviews   \n",
       "4       north_indian rajasthani                        600.0   no_reviews   \n",
       "\n",
       "  menu_item listed_in(type) listed_in(city)  \n",
       "0   unknown          buffet    banashankari  \n",
       "1   unknown          buffet    banashankari  \n",
       "2   unknown          buffet    banashankari  \n",
       "3   unknown          buffet    banashankari  \n",
       "4   unknown          buffet    banashankari  "
      ]
     },
     "execution_count": 8,
     "metadata": {},
     "output_type": "execute_result"
    }
   ],
   "source": [
    "dt.head()\n"
   ]
  },
  {
   "cell_type": "code",
   "execution_count": 9,
   "id": "feb83074",
   "metadata": {},
   "outputs": [],
   "source": [
    "#DRoping unwanted columns\n",
    "dt.drop([\"Unnamed: 0\",'index'],axis='columns',inplace=True)"
   ]
  },
  {
   "cell_type": "code",
   "execution_count": 10,
   "id": "2a13c04c",
   "metadata": {},
   "outputs": [
    {
     "data": {
      "text/plain": [
       "name                           142\n",
       "online_order                     0\n",
       "book_table                       0\n",
       "rate                             0\n",
       "votes                            0\n",
       "location                         0\n",
       "rest_type                        0\n",
       "dish_liked                       0\n",
       "cuisines                         0\n",
       "approx_cost(for two people)      0\n",
       "reviews_list                     0\n",
       "menu_item                        0\n",
       "listed_in(type)                  0\n",
       "listed_in(city)                  0\n",
       "dtype: int64"
      ]
     },
     "execution_count": 10,
     "metadata": {},
     "output_type": "execute_result"
    }
   ],
   "source": [
    "dt.isnull().sum()"
   ]
  },
  {
   "cell_type": "code",
   "execution_count": 11,
   "id": "823341a6",
   "metadata": {},
   "outputs": [],
   "source": [
    "dt['reviews_list'].fillna('no reviews',inplace=True)"
   ]
  },
  {
   "cell_type": "code",
   "execution_count": 12,
   "id": "e1454cad",
   "metadata": {},
   "outputs": [
    {
     "data": {
      "text/plain": [
       "name                           0\n",
       "online_order                   0\n",
       "book_table                     0\n",
       "rate                           0\n",
       "votes                          0\n",
       "location                       0\n",
       "rest_type                      0\n",
       "dish_liked                     0\n",
       "cuisines                       0\n",
       "approx_cost(for two people)    0\n",
       "reviews_list                   0\n",
       "menu_item                      0\n",
       "listed_in(type)                0\n",
       "listed_in(city)                0\n",
       "dtype: int64"
      ]
     },
     "execution_count": 12,
     "metadata": {},
     "output_type": "execute_result"
    }
   ],
   "source": [
    "#droping null values in name column\n",
    "dt.dropna(inplace=True,axis=0)\n",
    "dt.isnull().sum()"
   ]
  },
  {
   "cell_type": "code",
   "execution_count": 13,
   "id": "a66ab96f",
   "metadata": {},
   "outputs": [
    {
     "data": {
      "text/html": [
       "<div>\n",
       "<style scoped>\n",
       "    .dataframe tbody tr th:only-of-type {\n",
       "        vertical-align: middle;\n",
       "    }\n",
       "\n",
       "    .dataframe tbody tr th {\n",
       "        vertical-align: top;\n",
       "    }\n",
       "\n",
       "    .dataframe thead th {\n",
       "        text-align: right;\n",
       "    }\n",
       "</style>\n",
       "<table border=\"1\" class=\"dataframe\">\n",
       "  <thead>\n",
       "    <tr style=\"text-align: right;\">\n",
       "      <th></th>\n",
       "      <th>name</th>\n",
       "      <th>online_order</th>\n",
       "      <th>book_table</th>\n",
       "      <th>rate</th>\n",
       "      <th>votes</th>\n",
       "      <th>location</th>\n",
       "      <th>rest_type</th>\n",
       "      <th>dish_liked</th>\n",
       "      <th>cuisines</th>\n",
       "      <th>approx_cost(for two people)</th>\n",
       "      <th>reviews_list</th>\n",
       "      <th>menu_item</th>\n",
       "      <th>listed_in(type)</th>\n",
       "      <th>listed_in(city)</th>\n",
       "    </tr>\n",
       "  </thead>\n",
       "  <tbody>\n",
       "    <tr>\n",
       "      <th>0</th>\n",
       "      <td>jalsa</td>\n",
       "      <td>yes</td>\n",
       "      <td>yes</td>\n",
       "      <td>4.1</td>\n",
       "      <td>775</td>\n",
       "      <td>banashankari</td>\n",
       "      <td>casual_dining</td>\n",
       "      <td>pastalunch_buffetmasala_papadpaneer_lajawabtom...</td>\n",
       "      <td>north_indian mughlai chinese</td>\n",
       "      <td>800.0</td>\n",
       "      <td>no_reviews</td>\n",
       "      <td>unknown</td>\n",
       "      <td>buffet</td>\n",
       "      <td>banashankari</td>\n",
       "    </tr>\n",
       "    <tr>\n",
       "      <th>1</th>\n",
       "      <td>spice elephant</td>\n",
       "      <td>yes</td>\n",
       "      <td>no</td>\n",
       "      <td>4.1</td>\n",
       "      <td>787</td>\n",
       "      <td>banashankari</td>\n",
       "      <td>casual_dining</td>\n",
       "      <td>momoslunch_buffetchocolate_nirvanathai_green_c...</td>\n",
       "      <td>chinesenorth_indian thai</td>\n",
       "      <td>800.0</td>\n",
       "      <td>no_reviews</td>\n",
       "      <td>unknown</td>\n",
       "      <td>buffet</td>\n",
       "      <td>banashankari</td>\n",
       "    </tr>\n",
       "    <tr>\n",
       "      <th>2</th>\n",
       "      <td>san churro cafe</td>\n",
       "      <td>yes</td>\n",
       "      <td>no</td>\n",
       "      <td>3.8</td>\n",
       "      <td>918</td>\n",
       "      <td>banashankari</td>\n",
       "      <td>cafecasual_dining</td>\n",
       "      <td>churros cannelloniminestrone_souphot_chocolate...</td>\n",
       "      <td>cafe mexican italian</td>\n",
       "      <td>800.0</td>\n",
       "      <td>no_reviews</td>\n",
       "      <td>unknown</td>\n",
       "      <td>buffet</td>\n",
       "      <td>banashankari</td>\n",
       "    </tr>\n",
       "    <tr>\n",
       "      <th>3</th>\n",
       "      <td>addhuri udupi bhojana</td>\n",
       "      <td>no</td>\n",
       "      <td>no</td>\n",
       "      <td>3.7</td>\n",
       "      <td>88</td>\n",
       "      <td>banashankari</td>\n",
       "      <td>quick_bites</td>\n",
       "      <td>masala_dosa</td>\n",
       "      <td>south_indiannorth_indian</td>\n",
       "      <td>300.0</td>\n",
       "      <td>no_reviews</td>\n",
       "      <td>unknown</td>\n",
       "      <td>buffet</td>\n",
       "      <td>banashankari</td>\n",
       "    </tr>\n",
       "    <tr>\n",
       "      <th>4</th>\n",
       "      <td>grand village</td>\n",
       "      <td>no</td>\n",
       "      <td>no</td>\n",
       "      <td>3.8</td>\n",
       "      <td>166</td>\n",
       "      <td>basavanagudi</td>\n",
       "      <td>casual_dining</td>\n",
       "      <td>panipurigol_gappe</td>\n",
       "      <td>north_indian rajasthani</td>\n",
       "      <td>600.0</td>\n",
       "      <td>no_reviews</td>\n",
       "      <td>unknown</td>\n",
       "      <td>buffet</td>\n",
       "      <td>banashankari</td>\n",
       "    </tr>\n",
       "  </tbody>\n",
       "</table>\n",
       "</div>"
      ],
      "text/plain": [
       "                    name online_order book_table  rate  votes      location  \\\n",
       "0                  jalsa          yes        yes   4.1    775  banashankari   \n",
       "1         spice elephant          yes         no   4.1    787  banashankari   \n",
       "2        san churro cafe          yes         no   3.8    918  banashankari   \n",
       "3  addhuri udupi bhojana           no         no   3.7     88  banashankari   \n",
       "4          grand village           no         no   3.8    166  basavanagudi   \n",
       "\n",
       "           rest_type                                         dish_liked  \\\n",
       "0      casual_dining  pastalunch_buffetmasala_papadpaneer_lajawabtom...   \n",
       "1      casual_dining  momoslunch_buffetchocolate_nirvanathai_green_c...   \n",
       "2  cafecasual_dining  churros cannelloniminestrone_souphot_chocolate...   \n",
       "3        quick_bites                                        masala_dosa   \n",
       "4      casual_dining                                  panipurigol_gappe   \n",
       "\n",
       "                       cuisines  approx_cost(for two people) reviews_list  \\\n",
       "0  north_indian mughlai chinese                        800.0   no_reviews   \n",
       "1      chinesenorth_indian thai                        800.0   no_reviews   \n",
       "2          cafe mexican italian                        800.0   no_reviews   \n",
       "3      south_indiannorth_indian                        300.0   no_reviews   \n",
       "4       north_indian rajasthani                        600.0   no_reviews   \n",
       "\n",
       "  menu_item listed_in(type) listed_in(city)  \n",
       "0   unknown          buffet    banashankari  \n",
       "1   unknown          buffet    banashankari  \n",
       "2   unknown          buffet    banashankari  \n",
       "3   unknown          buffet    banashankari  \n",
       "4   unknown          buffet    banashankari  "
      ]
     },
     "execution_count": 13,
     "metadata": {},
     "output_type": "execute_result"
    }
   ],
   "source": [
    "dt.head(5)"
   ]
  },
  {
   "cell_type": "code",
   "execution_count": 14,
   "id": "ebfe4b5f",
   "metadata": {},
   "outputs": [
    {
     "name": "stdout",
     "output_type": "stream",
     "text": [
      "No of rows in data:  51006\n",
      "No of col in data:  14\n"
     ]
    }
   ],
   "source": [
    "print(\"No of rows in data:\",\"\",dt.shape[0])\n",
    "print(\"No of col in data:\",\"\",dt.shape[1])"
   ]
  },
  {
   "cell_type": "code",
   "execution_count": 15,
   "id": "7d4bd7e7",
   "metadata": {},
   "outputs": [
    {
     "name": "stdout",
     "output_type": "stream",
     "text": [
      "<class 'pandas.core.frame.DataFrame'>\n",
      "Int64Index: 51006 entries, 0 to 51147\n",
      "Data columns (total 14 columns):\n",
      " #   Column                       Non-Null Count  Dtype  \n",
      "---  ------                       --------------  -----  \n",
      " 0   name                         51006 non-null  object \n",
      " 1   online_order                 51006 non-null  object \n",
      " 2   book_table                   51006 non-null  object \n",
      " 3   rate                         51006 non-null  float64\n",
      " 4   votes                        51006 non-null  int64  \n",
      " 5   location                     51006 non-null  object \n",
      " 6   rest_type                    51006 non-null  object \n",
      " 7   dish_liked                   51006 non-null  object \n",
      " 8   cuisines                     51006 non-null  object \n",
      " 9   approx_cost(for two people)  51006 non-null  float64\n",
      " 10  reviews_list                 51006 non-null  object \n",
      " 11  menu_item                    51006 non-null  object \n",
      " 12  listed_in(type)              51006 non-null  object \n",
      " 13  listed_in(city)              51006 non-null  object \n",
      "dtypes: float64(2), int64(1), object(11)\n",
      "memory usage: 5.8+ MB\n"
     ]
    }
   ],
   "source": [
    "#information about data\n",
    "dt.info()"
   ]
  },
  {
   "cell_type": "code",
   "execution_count": 16,
   "id": "35caa560",
   "metadata": {},
   "outputs": [
    {
     "data": {
      "text/plain": [
       "Index(['name', 'online_order', 'book_table', 'rate', 'votes', 'location',\n",
       "       'rest_type', 'dish_liked', 'cuisines', 'approx_cost(for two people)',\n",
       "       'reviews_list', 'menu_item', 'listed_in(type)', 'listed_in(city)'],\n",
       "      dtype='object')"
      ]
     },
     "execution_count": 16,
     "metadata": {},
     "output_type": "execute_result"
    }
   ],
   "source": [
    "dt.columns"
   ]
  },
  {
   "cell_type": "code",
   "execution_count": 17,
   "id": "1a4a3a51",
   "metadata": {},
   "outputs": [],
   "source": [
    "#we have done data cleaning in previous notebook \n",
    "#now we will understand our target variable i.e rating"
   ]
  },
  {
   "cell_type": "markdown",
   "id": "048a2de4",
   "metadata": {},
   "source": [
    "### Analysing target variable"
   ]
  },
  {
   "cell_type": "code",
   "execution_count": 18,
   "id": "d3f8d9ed",
   "metadata": {},
   "outputs": [
    {
     "data": {
      "text/plain": [
       "array([4.1, 3.8, 3.7, 3.6, 4.6, 4. , 4.2, 3.9, 3.1, 3. , 3.2, 3.3, 2.8,\n",
       "       4.4, 4.3, 2.9, 3.5, 2.6, 3.4, 4.5, 2.5, 2.7, 4.7, 2.4, 2.2, 2.3,\n",
       "       4.8, 4.9, 2.1, 2. , 1.8])"
      ]
     },
     "execution_count": 18,
     "metadata": {},
     "output_type": "execute_result"
    }
   ],
   "source": [
    "#All unique ratings\n",
    "dt.rate.unique()"
   ]
  },
  {
   "cell_type": "code",
   "execution_count": 19,
   "id": "16ac67c0",
   "metadata": {},
   "outputs": [
    {
     "data": {
      "image/png": "[encoded data removed]",
      "text/plain": [
       "<Figure size 504x288 with 1 Axes>"
      ]
     },
     "metadata": {
      "needs_background": "light"
     },
     "output_type": "display_data"
    },
    {
     "data": {
      "image/png": "[encoded data removed]",
      "text/plain": [
       "<Figure size 360x360 with 1 Axes>"
      ]
     },
     "metadata": {},
     "output_type": "display_data"
    },
    {
     "data": {
      "image/png": "[encoded data removed]",
      "text/plain": [
       "<Figure size 864x504 with 1 Axes>"
      ]
     },
     "metadata": {},
     "output_type": "display_data"
    }
   ],
   "source": [
    "# Distribution of Ratings of restaurants in Bengalore.\n",
    "fig = plt.figure(figsize=(7,4))\n",
    "\n",
    "sns.set_style('white')\n",
    "sns.distplot(dt['rate'], bins = 20,  color= 'red',kde_kws={\"shade\": True});\n",
    "plt.axvline(x= dt.rate.mean(),ls='--',color='black',linewidth=4,label=\"mean\")\n",
    "plt.title(\"Distribution of Ratings\",fontweight='bold',fontsize=20);\n",
    "plt.legend([\"mean\"],prop={\"size\":10});\n",
    "\n",
    "sns.set_context(\"paper\",font_scale=1,rc={\"font.size\": 15,\"axes.titlesize\": 15,\"axes.labelsize\": 15})\n",
    "b=sns.catplot(data=dt,kind='count',x='rate',order=dt['rate'].value_counts().index)\n",
    "plt.title(\"Number of restuarants for each rating\")\n",
    "b.set_xticklabels(rotation=90)\n",
    "plt.show()\n",
    "\n",
    "fig = plt.figure(figsize=(12,7))\n",
    "ax6 = fig.add_subplot(3,2,3)\n",
    "sns.boxplot(dt['rate'],ax=ax6)\n",
    "plt.show()"
   ]
  },
  {
   "cell_type": "code",
   "execution_count": 20,
   "id": "a7f6b87f",
   "metadata": {},
   "outputs": [
    {
     "name": "stdout",
     "output_type": "stream",
     "text": [
      "1st quantile of rate is: 3.5\n",
      "2nd quantile of rate is: 3.7\n",
      "3rd quantile of rate is: 3.9\n",
      "4th quantile of rate is: 4.9\n"
     ]
    }
   ],
   "source": [
    "print(\"1st quantile of rate is:\",np.quantile(dt['rate'],0.25))\n",
    "print('2nd quantile of rate is:',np.quantile(dt['rate'],0.5))\n",
    "print('3rd quantile of rate is:',np.quantile(dt['rate'],0.75))\n",
    "print('4th quantile of rate is:',np.quantile(dt['rate'],1))"
   ]
  },
  {
   "cell_type": "markdown",
   "id": "990fa6ed",
   "metadata": {},
   "source": [
    " Most of the restaurant have the ratings between 3.3 and 4. 3.7 is the most common ratings. There are very few restaurants with rating higher than 4.5. There are hardly few restaurants with  rating between 2 to 2.5 and 4.5 to 5"
   ]
  },
  {
   "cell_type": "code",
   "execution_count": 21,
   "id": "fa1493c7",
   "metadata": {},
   "outputs": [
    {
     "data": {
      "text/plain": [
       "[5, 178, 2033, 9073, 27469, 11008, 1240]"
      ]
     },
     "execution_count": 21,
     "metadata": {},
     "output_type": "execute_result"
    }
   ],
   "source": [
    "sl=[((dt.rate>=1.5)&(dt.rate<2)).sum(),((dt.rate>=2)&(dt.rate<2.5)).sum(),\n",
    "   ((dt.rate>=2.5)&(dt.rate<3)).sum(),((dt.rate>=3)&(dt.rate<3.5)).sum(),\n",
    "    ((dt.rate>=3.5)&(dt.rate<4)).sum(),((dt.rate>=4)&(dt.rate<4.5)).sum(),\n",
    "    ((dt.rate>=4.5)&(dt.rate<5)).sum()]\n",
    "sl"
   ]
  },
  {
   "cell_type": "code",
   "execution_count": 22,
   "id": "d03b2608",
   "metadata": {},
   "outputs": [
    {
     "data": {
      "image/png": "[encoded data removed]",
      "text/plain": [
       "<Figure size 720x720 with 1 Axes>"
      ]
     },
     "metadata": {},
     "output_type": "display_data"
    }
   ],
   "source": [
    "labels=['1.5-2','2-2.5','2.5-3','3-3.5','3.5-4','4-4.5','4.5-5']\n",
    "colors = ['Red','blue','Green','yellow','indigo','pink']\n",
    "plt.pie(sl,colors=colors, labels=labels, autopct='%1.0f%%', pctdistance=0.5, labeldistance=1.3)\n",
    "fig = plt.gcf()\n",
    "plt.title(\"Percentage of Restaurants according to their ratings\", bbox={'facecolor':'1', 'pad':5})\n",
    "\n",
    "fig.set_size_inches(10,10)\n",
    "plt.show()"
   ]
  },
  {
   "cell_type": "markdown",
   "id": "2201d183",
   "metadata": {},
   "source": [
    "### Analysing rest of  the features"
   ]
  },
  {
   "cell_type": "markdown",
   "id": "b0efc5b6",
   "metadata": {},
   "source": [
    "##### Analysing online order"
   ]
  },
  {
   "cell_type": "code",
   "execution_count": 23,
   "id": "2295a228",
   "metadata": {},
   "outputs": [
    {
     "name": "stdout",
     "output_type": "stream",
     "text": [
      "No of restaurants with online delivery: 30273\n",
      "No of restaurants with no online delivery: 20733\n"
     ]
    }
   ],
   "source": [
    "print(\"No of restaurants with online delivery:\",(dt['online_order']=='yes').sum())\n",
    "print(\"No of restaurants with no online delivery:\",(dt['online_order']=='no').sum())"
   ]
  },
  {
   "cell_type": "code",
   "execution_count": 24,
   "id": "7ebde648",
   "metadata": {},
   "outputs": [
    {
     "data": {
      "text/plain": [
       "yes    59.351841\n",
       "no     40.648159\n",
       "Name: online_order, dtype: float64"
      ]
     },
     "execution_count": 24,
     "metadata": {},
     "output_type": "execute_result"
    }
   ],
   "source": [
    "dt['online_order'].value_counts(normalize=True)*100"
   ]
  },
  {
   "cell_type": "markdown",
   "id": "17b6b1dd",
   "metadata": {},
   "source": [
    "Here 59% of the restaurants accept online order and 41% of restaurants doesnt accept online order"
   ]
  },
  {
   "cell_type": "code",
   "execution_count": 25,
   "id": "9efc6bc5",
   "metadata": {},
   "outputs": [
    {
     "data": {
      "text/html": [
       "<div>\n",
       "<style scoped>\n",
       "    .dataframe tbody tr th:only-of-type {\n",
       "        vertical-align: middle;\n",
       "    }\n",
       "\n",
       "    .dataframe tbody tr th {\n",
       "        vertical-align: top;\n",
       "    }\n",
       "\n",
       "    .dataframe thead th {\n",
       "        text-align: right;\n",
       "    }\n",
       "</style>\n",
       "<table border=\"1\" class=\"dataframe\">\n",
       "  <thead>\n",
       "    <tr style=\"text-align: right;\">\n",
       "      <th>online_order</th>\n",
       "      <th>no</th>\n",
       "      <th>yes</th>\n",
       "    </tr>\n",
       "    <tr>\n",
       "      <th>rate</th>\n",
       "      <th></th>\n",
       "      <th></th>\n",
       "    </tr>\n",
       "  </thead>\n",
       "  <tbody>\n",
       "    <tr>\n",
       "      <th>1.8</th>\n",
       "      <td>5.0</td>\n",
       "      <td>NaN</td>\n",
       "    </tr>\n",
       "    <tr>\n",
       "      <th>2.0</th>\n",
       "      <td>11.0</td>\n",
       "      <td>NaN</td>\n",
       "    </tr>\n",
       "    <tr>\n",
       "      <th>2.1</th>\n",
       "      <td>9.0</td>\n",
       "      <td>15.0</td>\n",
       "    </tr>\n",
       "    <tr>\n",
       "      <th>2.2</th>\n",
       "      <td>10.0</td>\n",
       "      <td>16.0</td>\n",
       "    </tr>\n",
       "    <tr>\n",
       "      <th>2.3</th>\n",
       "      <td>29.0</td>\n",
       "      <td>22.0</td>\n",
       "    </tr>\n",
       "    <tr>\n",
       "      <th>2.4</th>\n",
       "      <td>32.0</td>\n",
       "      <td>34.0</td>\n",
       "    </tr>\n",
       "    <tr>\n",
       "      <th>2.5</th>\n",
       "      <td>37.0</td>\n",
       "      <td>63.0</td>\n",
       "    </tr>\n",
       "    <tr>\n",
       "      <th>2.6</th>\n",
       "      <td>74.0</td>\n",
       "      <td>175.0</td>\n",
       "    </tr>\n",
       "    <tr>\n",
       "      <th>2.7</th>\n",
       "      <td>137.0</td>\n",
       "      <td>166.0</td>\n",
       "    </tr>\n",
       "    <tr>\n",
       "      <th>2.8</th>\n",
       "      <td>220.0</td>\n",
       "      <td>360.0</td>\n",
       "    </tr>\n",
       "    <tr>\n",
       "      <th>2.9</th>\n",
       "      <td>313.0</td>\n",
       "      <td>488.0</td>\n",
       "    </tr>\n",
       "    <tr>\n",
       "      <th>3.0</th>\n",
       "      <td>413.0</td>\n",
       "      <td>578.0</td>\n",
       "    </tr>\n",
       "    <tr>\n",
       "      <th>3.1</th>\n",
       "      <td>572.0</td>\n",
       "      <td>967.0</td>\n",
       "    </tr>\n",
       "    <tr>\n",
       "      <th>3.2</th>\n",
       "      <td>816.0</td>\n",
       "      <td>1019.0</td>\n",
       "    </tr>\n",
       "    <tr>\n",
       "      <th>3.3</th>\n",
       "      <td>1096.0</td>\n",
       "      <td>1166.0</td>\n",
       "    </tr>\n",
       "    <tr>\n",
       "      <th>3.4</th>\n",
       "      <td>994.0</td>\n",
       "      <td>1452.0</td>\n",
       "    </tr>\n",
       "    <tr>\n",
       "      <th>3.5</th>\n",
       "      <td>1077.0</td>\n",
       "      <td>1687.0</td>\n",
       "    </tr>\n",
       "    <tr>\n",
       "      <th>3.6</th>\n",
       "      <td>1087.0</td>\n",
       "      <td>2200.0</td>\n",
       "    </tr>\n",
       "    <tr>\n",
       "      <th>3.7</th>\n",
       "      <td>7823.0</td>\n",
       "      <td>5846.0</td>\n",
       "    </tr>\n",
       "    <tr>\n",
       "      <th>3.8</th>\n",
       "      <td>1089.0</td>\n",
       "      <td>2719.0</td>\n",
       "    </tr>\n",
       "    <tr>\n",
       "      <th>3.9</th>\n",
       "      <td>995.0</td>\n",
       "      <td>2946.0</td>\n",
       "    </tr>\n",
       "    <tr>\n",
       "      <th>4.0</th>\n",
       "      <td>833.0</td>\n",
       "      <td>2299.0</td>\n",
       "    </tr>\n",
       "    <tr>\n",
       "      <th>4.1</th>\n",
       "      <td>811.0</td>\n",
       "      <td>2099.0</td>\n",
       "    </tr>\n",
       "    <tr>\n",
       "      <th>4.2</th>\n",
       "      <td>619.0</td>\n",
       "      <td>1534.0</td>\n",
       "    </tr>\n",
       "    <tr>\n",
       "      <th>4.3</th>\n",
       "      <td>666.0</td>\n",
       "      <td>1001.0</td>\n",
       "    </tr>\n",
       "    <tr>\n",
       "      <th>4.4</th>\n",
       "      <td>373.0</td>\n",
       "      <td>773.0</td>\n",
       "    </tr>\n",
       "    <tr>\n",
       "      <th>4.5</th>\n",
       "      <td>297.0</td>\n",
       "      <td>359.0</td>\n",
       "    </tr>\n",
       "    <tr>\n",
       "      <th>4.6</th>\n",
       "      <td>136.0</td>\n",
       "      <td>160.0</td>\n",
       "    </tr>\n",
       "    <tr>\n",
       "      <th>4.7</th>\n",
       "      <td>113.0</td>\n",
       "      <td>54.0</td>\n",
       "    </tr>\n",
       "    <tr>\n",
       "      <th>4.8</th>\n",
       "      <td>34.0</td>\n",
       "      <td>32.0</td>\n",
       "    </tr>\n",
       "    <tr>\n",
       "      <th>4.9</th>\n",
       "      <td>12.0</td>\n",
       "      <td>43.0</td>\n",
       "    </tr>\n",
       "  </tbody>\n",
       "</table>\n",
       "</div>"
      ],
      "text/plain": [
       "online_order      no     yes\n",
       "rate                        \n",
       "1.8              5.0     NaN\n",
       "2.0             11.0     NaN\n",
       "2.1              9.0    15.0\n",
       "2.2             10.0    16.0\n",
       "2.3             29.0    22.0\n",
       "2.4             32.0    34.0\n",
       "2.5             37.0    63.0\n",
       "2.6             74.0   175.0\n",
       "2.7            137.0   166.0\n",
       "2.8            220.0   360.0\n",
       "2.9            313.0   488.0\n",
       "3.0            413.0   578.0\n",
       "3.1            572.0   967.0\n",
       "3.2            816.0  1019.0\n",
       "3.3           1096.0  1166.0\n",
       "3.4            994.0  1452.0\n",
       "3.5           1077.0  1687.0\n",
       "3.6           1087.0  2200.0\n",
       "3.7           7823.0  5846.0\n",
       "3.8           1089.0  2719.0\n",
       "3.9            995.0  2946.0\n",
       "4.0            833.0  2299.0\n",
       "4.1            811.0  2099.0\n",
       "4.2            619.0  1534.0\n",
       "4.3            666.0  1001.0\n",
       "4.4            373.0   773.0\n",
       "4.5            297.0   359.0\n",
       "4.6            136.0   160.0\n",
       "4.7            113.0    54.0\n",
       "4.8             34.0    32.0\n",
       "4.9             12.0    43.0"
      ]
     },
     "execution_count": 25,
     "metadata": {},
     "output_type": "execute_result"
    }
   ],
   "source": [
    "dt.groupby('rate').online_order.value_counts().unstack()"
   ]
  },
  {
   "cell_type": "code",
   "execution_count": 26,
   "id": "75e9c83f",
   "metadata": {},
   "outputs": [
    {
     "data": {
      "image/png": "[encoded data removed]",
      "text/plain": [
       "<Figure size 432x288 with 1 Axes>"
      ]
     },
     "metadata": {},
     "output_type": "display_data"
    }
   ],
   "source": [
    "z=dt[\"online_order\"].value_counts()\n",
    "labels = 'Yes', 'No'\n",
    "sizes = [z.yes, z.no]\n",
    "colors = ['red', 'blue']\n",
    "explode = (0.1, 0,) \n",
    "plt.pie(sizes, explode=explode, labels=labels, colors=colors,\n",
    "autopct='%1.1f%%', shadow=True, startangle=140)\n",
    "plt.title(\"Restaurents Providing Online_order facility\")\n",
    "plt.axis('equal')\n",
    "plt.show()\n"
   ]
  },
  {
   "cell_type": "code",
   "execution_count": 27,
   "id": "5835a75a",
   "metadata": {},
   "outputs": [
    {
     "data": {
      "text/plain": [
       "<AxesSubplot:xlabel='rate', ylabel='online_order'>"
      ]
     },
     "execution_count": 27,
     "metadata": {},
     "output_type": "execute_result"
    },
    {
     "data": {
      "image/png": "[encoded data removed]",
      "text/plain": [
       "<Figure size 576x216 with 1 Axes>"
      ]
     },
     "metadata": {},
     "output_type": "display_data"
    }
   ],
   "source": [
    "fig = plt.figure(figsize=(8,3))\n",
    "ax1 = fig.add_subplot(1,1,1)\n",
    "sns.boxplot(x=dt['rate'],y=dt['online_order'])"
   ]
  },
  {
   "cell_type": "markdown",
   "id": "4c61b5b0",
   "metadata": {},
   "source": [
    "Restaurants are likely to get better rating if they provide online order\n",
    "But it can also be consequence that because Zomato offers home delivery for online orders also, so more people will give rating for online_order restaurants on their platform."
   ]
  },
  {
   "cell_type": "markdown",
   "id": "82dd3dfe",
   "metadata": {},
   "source": [
    "#### Votes"
   ]
  },
  {
   "cell_type": "code",
   "execution_count": 28,
   "id": "fd557bcb",
   "metadata": {},
   "outputs": [
    {
     "data": {
      "text/plain": [
       "<AxesSubplot:xlabel='votes', ylabel='Density'>"
      ]
     },
     "execution_count": 28,
     "metadata": {},
     "output_type": "execute_result"
    },
    {
     "data": {
      "image/png": "[encoded data removed]",
      "text/plain": [
       "<Figure size 720x360 with 1 Axes>"
      ]
     },
     "metadata": {},
     "output_type": "display_data"
    }
   ],
   "source": [
    "fig = plt.figure(figsize=(10,5))\n",
    "fig.patch.set_facecolor('green')\n",
    "plt.style.use('grayscale')\n",
    "\n",
    "plt.subplot(121)\n",
    "sns.distplot(dt['votes'],kde_kws={\"shade\": True})"
   ]
  },
  {
   "cell_type": "markdown",
   "id": "1f4af515",
   "metadata": {},
   "source": [
    " There are very less no of restaurants which has more no of votes"
   ]
  },
  {
   "cell_type": "code",
   "execution_count": 29,
   "id": "eaf4a4ca",
   "metadata": {},
   "outputs": [
    {
     "data": {
      "image/png": "[encoded data removed]",
      "text/plain": [
       "<Figure size 360x360 with 1 Axes>"
      ]
     },
     "metadata": {},
     "output_type": "display_data"
    }
   ],
   "source": [
    "#Linear Relationship between rate and votes shown below:\n",
    "sns.lmplot(x=\"rate\",y=\"votes\", data=dt);"
   ]
  },
  {
   "cell_type": "markdown",
   "id": "d8a689d0",
   "metadata": {},
   "source": [
    "Here in general we can observe that Restaurants with higher votes has higher ratings and with lesser ratings has lesser ratings.Higher the no of votes higher the probability of company to get higher ratings."
   ]
  },
  {
   "cell_type": "markdown",
   "id": "bbb61c4f",
   "metadata": {},
   "source": [
    "### Book_table facility"
   ]
  },
  {
   "cell_type": "code",
   "execution_count": 31,
   "id": "a9491db2",
   "metadata": {},
   "outputs": [
    {
     "name": "stdout",
     "output_type": "stream",
     "text": [
      "No of restaurants having book table facility: 6391\n",
      "No of restaurants having book table facility: 44615\n"
     ]
    }
   ],
   "source": [
    "print('No of restaurants having book table facility:',(dt['book_table']=='yes').sum())\n",
    "print('No of restaurants having book table facility:',(dt['book_table']=='no').sum())"
   ]
  },
  {
   "cell_type": "code",
   "execution_count": 32,
   "id": "a9edf29d",
   "metadata": {},
   "outputs": [],
   "source": [
    "z=dt[\"book_table\"].value_counts()"
   ]
  },
  {
   "cell_type": "code",
   "execution_count": 33,
   "id": "3cdcb24d",
   "metadata": {},
   "outputs": [
    {
     "data": {
      "image/png": "[encoded data removed]",
      "text/plain": [
       "<Figure size 432x288 with 1 Axes>"
      ]
     },
     "metadata": {},
     "output_type": "display_data"
    }
   ],
   "source": [
    "labels = 'Yes', 'No'\n",
    "sizes = [z.yes, z.no]\n",
    "colors = ['red', 'blue']\n",
    "explode = (0.1, 0,) \n",
    "plt.pie(sizes, explode=explode, labels=labels, colors=colors,\n",
    "autopct='%1.1f%%', shadow=True, startangle=140)\n",
    "plt.title(\"Restaurents Providing Table Booking\")\n",
    "plt.axis('equal')\n",
    "plt.show()"
   ]
  },
  {
   "cell_type": "code",
   "execution_count": 34,
   "id": "0a6e524e",
   "metadata": {},
   "outputs": [
    {
     "data": {
      "image/png": "[encoded data removed]",
      "text/plain": [
       "<Figure size 504x216 with 1 Axes>"
      ]
     },
     "metadata": {},
     "output_type": "display_data"
    }
   ],
   "source": [
    "# relation between table booking option and rating of the restaurant\n",
    "plt.rcParams['figure.figsize'] = (7,3)\n",
    "Y = pd.crosstab(dt['rate'], dt['book_table'])\n",
    "Y.div(Y.sum(1).astype(float), axis = 0).plot(kind = 'bar', stacked = True,color=['red','blue'])\n",
    "plt.title('table booking vs Normal rate', fontweight = 30, fontsize = 20)\n",
    "plt.legend(loc=\"upper right\")\n",
    "plt.show()"
   ]
  },
  {
   "cell_type": "code",
   "execution_count": 35,
   "id": "1ba60df3",
   "metadata": {},
   "outputs": [
    {
     "data": {
      "image/png": "[encoded data removed]",
      "text/plain": [
       "<Figure size 504x216 with 1 Axes>"
      ]
     },
     "metadata": {},
     "output_type": "display_data"
    }
   ],
   "source": [
    "\n",
    "plt.style.use('fivethirtyeight')\n",
    "pd.crosstab(dt.rate,dt.book_table).plot(kind='line',marker='o',figsize=(7,3));\n",
    "plt.title(\"Ratings vs bookTable\");"
   ]
  },
  {
   "cell_type": "markdown",
   "id": "6e5fafd6",
   "metadata": {},
   "source": [
    "Hotels are more likely to get better rating if they provide table booking facility.\n"
   ]
  },
  {
   "cell_type": "code",
   "execution_count": 36,
   "id": "beccf79f",
   "metadata": {},
   "outputs": [
    {
     "data": {
      "image/png": "[encoded data removed]",
      "text/plain": [
       "<Figure size 1080x360 with 1 Axes>"
      ]
     },
     "metadata": {},
     "output_type": "display_data"
    }
   ],
   "source": [
    "# OnlineOrder Vs ApproxCost wrt book Table\n",
    "fig = plt.figure(figsize=(15,5))\n",
    "fig.patch.set_facecolor('mediumorchid')\n",
    "plt.style.use('fivethirtyeight')\n",
    "\n",
    "plt.subplot(122)\n",
    "sns.boxenplot(data=dt,x='online_order',y='approx_cost(for two people)',hue='book_table');\n",
    "plt.title(\"OnlineOrder Vs ApproxCost wrt book Table\",fontweight='bold',fontsize=15);"
   ]
  },
  {
   "cell_type": "markdown",
   "id": "8a05fec9",
   "metadata": {},
   "source": [
    "cost is significantly less when restaurants accept orders online and also cost is aproximately high when restaurants provide book table facility"
   ]
  },
  {
   "cell_type": "markdown",
   "id": "51374910",
   "metadata": {},
   "source": [
    "### Analysing location"
   ]
  },
  {
   "cell_type": "code",
   "execution_count": 37,
   "id": "02e14c0d",
   "metadata": {
    "scrolled": true
   },
   "outputs": [
    {
     "data": {
      "image/png": "[encoded data removed]",
      "text/plain": [
       "<Figure size 720x360 with 1 Axes>"
      ]
     },
     "metadata": {},
     "output_type": "display_data"
    }
   ],
   "source": [
    "# Lets look at distribution of Location Variable\n",
    "g = sns.countplot(x=\"location\",data=dt, palette = \"Set1\",order = dt['location'].value_counts()[:10].index)\n",
    "g.set_xticklabels(g.get_xticklabels(), rotation=90, ha=\"right\")\n",
    "g \n",
    "plt.title('locality',size = 10)\n",
    "fig = plt.gcf()\n",
    "fig.set_size_inches(10,5)"
   ]
  },
  {
   "cell_type": "markdown",
   "id": "1a3a9971",
   "metadata": {},
   "source": [
    "btm,Koramangala 5th block,hsr has more than 2000 restaurants each btm has highest no of restaurant among  all the areas"
   ]
  },
  {
   "cell_type": "code",
   "execution_count": 38,
   "id": "c995981c",
   "metadata": {},
   "outputs": [
    {
     "data": {
      "image/png": "[encoded data removed]",
      "text/plain": [
       "<Figure size 432x432 with 1 Axes>"
      ]
     },
     "metadata": {},
     "output_type": "display_data"
    }
   ],
   "source": [
    "plt.figure(figsize=(6,6))\n",
    "names = dt.location.value_counts()[:15].index\n",
    "values = dt.location.value_counts()[:15].values\n",
    "explode = [0.1,0,0,0,0,0,0,0,0,0,0,0,0,0,0]\n",
    "\n",
    "plt.pie(values, explode=explode, autopct='%0.1f%%',  labels = names)\n",
    "plt.title(\"Percentage of restaurants present in that location\")\n",
    "plt.show()\n"
   ]
  },
  {
   "cell_type": "code",
   "execution_count": 39,
   "id": "21601173",
   "metadata": {},
   "outputs": [
    {
     "data": {
      "text/plain": [
       "location\n",
       "lavelle_road             4.106310\n",
       "st._marks_road           4.017201\n",
       "koramangala_5th_block    3.985818\n",
       "koramangala_3rd_block    3.983333\n",
       "church_street            3.980107\n",
       "sankey_road              3.955556\n",
       "cunningham_road          3.894501\n",
       "koramangala_4th_block    3.888347\n",
       "rajarajeshwari_nagar     3.850000\n",
       "residency_road           3.847478\n",
       "Name: rate, dtype: float64"
      ]
     },
     "execution_count": 39,
     "metadata": {},
     "output_type": "execute_result"
    }
   ],
   "source": [
    "#location and rating\n",
    "dt.groupby('location')['rate'].mean().sort_values(ascending=False).head(10)"
   ]
  },
  {
   "cell_type": "code",
   "execution_count": 40,
   "id": "5b773530",
   "metadata": {},
   "outputs": [
    {
     "data": {
      "image/png": "[encoded data removed]",
      "text/plain": [
       "<Figure size 504x216 with 1 Axes>"
      ]
     },
     "metadata": {},
     "output_type": "display_data"
    }
   ],
   "source": [
    "loc_plot=pd.crosstab(dt['rate'],dt['listed_in(city)'])\n",
    "loc_plot.plot(kind='bar',stacked=True);\n",
    "plt.title('Location - Rating',fontsize=15,fontweight='bold')\n",
    "plt.xlabel('Rate',fontsize=10,fontweight='bold')\n",
    "plt.xticks(fontsize=10,fontweight='bold')\n",
    "plt.yticks(fontsize=10,fontweight='bold');\n",
    "plt.legend().remove();"
   ]
  },
  {
   "cell_type": "markdown",
   "id": "666953ba",
   "metadata": {},
   "source": [
    "Lavell road and st.marks road are the two locations with highest average restaurants ratings"
   ]
  },
  {
   "cell_type": "code",
   "execution_count": 44,
   "id": "fa6df0de",
   "metadata": {},
   "outputs": [
    {
     "data": {
      "text/html": [
       "<div>\n",
       "<style scoped>\n",
       "    .dataframe tbody tr th:only-of-type {\n",
       "        vertical-align: middle;\n",
       "    }\n",
       "\n",
       "    .dataframe tbody tr th {\n",
       "        vertical-align: top;\n",
       "    }\n",
       "\n",
       "    .dataframe thead th {\n",
       "        text-align: right;\n",
       "    }\n",
       "</style>\n",
       "<table border=\"1\" class=\"dataframe\">\n",
       "  <thead>\n",
       "    <tr style=\"text-align: right;\">\n",
       "      <th></th>\n",
       "      <th>rate</th>\n",
       "    </tr>\n",
       "    <tr>\n",
       "      <th>location</th>\n",
       "      <th></th>\n",
       "    </tr>\n",
       "  </thead>\n",
       "  <tbody>\n",
       "    <tr>\n",
       "      <th>old_madras_road</th>\n",
       "      <td>3.181818</td>\n",
       "    </tr>\n",
       "    <tr>\n",
       "      <th>peenya</th>\n",
       "      <td>3.200000</td>\n",
       "    </tr>\n",
       "    <tr>\n",
       "      <th>bommanahalli</th>\n",
       "      <td>3.389407</td>\n",
       "    </tr>\n",
       "    <tr>\n",
       "      <th>rammurthy_nagar</th>\n",
       "      <td>3.412500</td>\n",
       "    </tr>\n",
       "    <tr>\n",
       "      <th>north_bangalore</th>\n",
       "      <td>3.442857</td>\n",
       "    </tr>\n",
       "    <tr>\n",
       "      <th>kanakapura_road</th>\n",
       "      <td>3.478947</td>\n",
       "    </tr>\n",
       "    <tr>\n",
       "      <th>kumaraswamy_layout</th>\n",
       "      <td>3.505759</td>\n",
       "    </tr>\n",
       "    <tr>\n",
       "      <th>rt_nagar</th>\n",
       "      <td>3.511538</td>\n",
       "    </tr>\n",
       "    <tr>\n",
       "      <th>yeshwantpur</th>\n",
       "      <td>3.514286</td>\n",
       "    </tr>\n",
       "    <tr>\n",
       "      <th>magadi_road</th>\n",
       "      <td>3.514706</td>\n",
       "    </tr>\n",
       "  </tbody>\n",
       "</table>\n",
       "</div>"
      ],
      "text/plain": [
       "                        rate\n",
       "location                    \n",
       "old_madras_road     3.181818\n",
       "peenya              3.200000\n",
       "bommanahalli        3.389407\n",
       "rammurthy_nagar     3.412500\n",
       "north_bangalore     3.442857\n",
       "kanakapura_road     3.478947\n",
       "kumaraswamy_layout  3.505759\n",
       "rt_nagar            3.511538\n",
       "yeshwantpur         3.514286\n",
       "magadi_road         3.514706"
      ]
     },
     "execution_count": 44,
     "metadata": {},
     "output_type": "execute_result"
    }
   ],
   "source": [
    "pd.DataFrame(dt.groupby('location')['rate'].mean().sort_values(ascending=True).head(10))"
   ]
  },
  {
   "cell_type": "code",
   "execution_count": 45,
   "id": "8fdef027",
   "metadata": {},
   "outputs": [
    {
     "data": {
      "text/plain": [
       "location\n",
       "lavelle_road             4.3\n",
       "st._marks_road           4.1\n",
       "church_street            4.1\n",
       "koramangala_5th_block    4.0\n",
       "cunningham_road          4.0\n",
       "                        ... \n",
       "north_bangalore          3.5\n",
       "kanakapura_road          3.5\n",
       "yeshwantpur              3.5\n",
       "peenya                   3.2\n",
       "old_madras_road          3.2\n",
       "Name: rate, Length: 93, dtype: float64"
      ]
     },
     "execution_count": 45,
     "metadata": {},
     "output_type": "execute_result"
    }
   ],
   "source": [
    "dt.groupby(\"location\")['rate'].median().sort_values(ascending=False)"
   ]
  },
  {
   "cell_type": "code",
   "execution_count": 46,
   "id": "82d1dd18",
   "metadata": {},
   "outputs": [
    {
     "data": {
      "text/html": [
       "<div>\n",
       "<style scoped>\n",
       "    .dataframe tbody tr th:only-of-type {\n",
       "        vertical-align: middle;\n",
       "    }\n",
       "\n",
       "    .dataframe tbody tr th {\n",
       "        vertical-align: top;\n",
       "    }\n",
       "\n",
       "    .dataframe thead th {\n",
       "        text-align: right;\n",
       "    }\n",
       "</style>\n",
       "<table border=\"1\" class=\"dataframe\">\n",
       "  <thead>\n",
       "    <tr style=\"text-align: right;\">\n",
       "      <th></th>\n",
       "      <th>approx_cost(for two people)</th>\n",
       "    </tr>\n",
       "    <tr>\n",
       "      <th>location</th>\n",
       "      <th></th>\n",
       "    </tr>\n",
       "  </thead>\n",
       "  <tbody>\n",
       "    <tr>\n",
       "      <th>peenya</th>\n",
       "      <td>300.000000</td>\n",
       "    </tr>\n",
       "    <tr>\n",
       "      <th>city_market</th>\n",
       "      <td>302.426230</td>\n",
       "    </tr>\n",
       "    <tr>\n",
       "      <th>yelahanka</th>\n",
       "      <td>310.000000</td>\n",
       "    </tr>\n",
       "    <tr>\n",
       "      <th>cv_raman_nagar</th>\n",
       "      <td>311.111111</td>\n",
       "    </tr>\n",
       "    <tr>\n",
       "      <th>ejipura</th>\n",
       "      <td>320.506912</td>\n",
       "    </tr>\n",
       "    <tr>\n",
       "      <th>...</th>\n",
       "      <td>...</td>\n",
       "    </tr>\n",
       "    <tr>\n",
       "      <th>residency_road</th>\n",
       "      <td>966.320475</td>\n",
       "    </tr>\n",
       "    <tr>\n",
       "      <th>mg_road</th>\n",
       "      <td>1155.704698</td>\n",
       "    </tr>\n",
       "    <tr>\n",
       "      <th>lavelle_road</th>\n",
       "      <td>1307.934990</td>\n",
       "    </tr>\n",
       "    <tr>\n",
       "      <th>race_course_road</th>\n",
       "      <td>1309.352518</td>\n",
       "    </tr>\n",
       "    <tr>\n",
       "      <th>sankey_road</th>\n",
       "      <td>2505.555556</td>\n",
       "    </tr>\n",
       "  </tbody>\n",
       "</table>\n",
       "<p>93 rows × 1 columns</p>\n",
       "</div>"
      ],
      "text/plain": [
       "                  approx_cost(for two people)\n",
       "location                                     \n",
       "peenya                             300.000000\n",
       "city_market                        302.426230\n",
       "yelahanka                          310.000000\n",
       "cv_raman_nagar                     311.111111\n",
       "ejipura                            320.506912\n",
       "...                                       ...\n",
       "residency_road                     966.320475\n",
       "mg_road                           1155.704698\n",
       "lavelle_road                      1307.934990\n",
       "race_course_road                  1309.352518\n",
       "sankey_road                       2505.555556\n",
       "\n",
       "[93 rows x 1 columns]"
      ]
     },
     "execution_count": 46,
     "metadata": {},
     "output_type": "execute_result"
    }
   ],
   "source": [
    "a=pd.DataFrame(dt.groupby('location')['approx_cost(for two people)'].mean().sort_values())\n",
    "a\n"
   ]
  },
  {
   "cell_type": "markdown",
   "id": "c5cabbed",
   "metadata": {},
   "source": [
    "Lavelle road is location with high rated restaurants but its also the one among the costliest spot.Even sankey road has restaurants with good rating but its also the costlier location"
   ]
  },
  {
   "cell_type": "markdown",
   "id": "929dc676",
   "metadata": {},
   "source": [
    "#### Analysing cuisines"
   ]
  },
  {
   "cell_type": "code",
   "execution_count": 47,
   "id": "70157c10",
   "metadata": {},
   "outputs": [
    {
     "data": {
      "text/plain": [
       "Text(0.5, 0, 'cuisines_count')"
      ]
     },
     "execution_count": 47,
     "metadata": {},
     "output_type": "execute_result"
    },
    {
     "data": {
      "image/png": "[encoded data removed]",
      "text/plain": [
       "<Figure size 720x360 with 1 Axes>"
      ]
     },
     "metadata": {},
     "output_type": "display_data"
    }
   ],
   "source": [
    "plt.figure(figsize=(10,5))\n",
    "a=dt.cuisines.value_counts()[:15]\n",
    "sns.barplot(x=a,y=a.index)\n",
    "plt.title('Most liked cuisins')\n",
    "plt.xlabel('cuisines_count')\n"
   ]
  },
  {
   "cell_type": "markdown",
   "id": "a1ee9878",
   "metadata": {},
   "source": [
    "We have cuisines such as north indian , south indian,chinese,biryani,cafe,desert are mostliked by bangalorians. North indian is the most liked cuisine."
   ]
  },
  {
   "cell_type": "code",
   "execution_count": 48,
   "id": "663cbda6",
   "metadata": {},
   "outputs": [
    {
     "data": {
      "text/plain": [
       "Index(['name', 'online_order', 'book_table', 'rate', 'votes', 'location',\n",
       "       'rest_type', 'dish_liked', 'cuisines', 'approx_cost(for two people)',\n",
       "       'reviews_list', 'menu_item', 'listed_in(type)', 'listed_in(city)'],\n",
       "      dtype='object')"
      ]
     },
     "execution_count": 48,
     "metadata": {},
     "output_type": "execute_result"
    }
   ],
   "source": [
    "dt.columns"
   ]
  },
  {
   "cell_type": "code",
   "execution_count": 49,
   "id": "53053878",
   "metadata": {},
   "outputs": [
    {
     "data": {
      "text/html": [
       "<div>\n",
       "<style scoped>\n",
       "    .dataframe tbody tr th:only-of-type {\n",
       "        vertical-align: middle;\n",
       "    }\n",
       "\n",
       "    .dataframe tbody tr th {\n",
       "        vertical-align: top;\n",
       "    }\n",
       "\n",
       "    .dataframe thead th {\n",
       "        text-align: right;\n",
       "    }\n",
       "</style>\n",
       "<table border=\"1\" class=\"dataframe\">\n",
       "  <thead>\n",
       "    <tr style=\"text-align: right;\">\n",
       "      <th></th>\n",
       "      <th>cuisines</th>\n",
       "    </tr>\n",
       "    <tr>\n",
       "      <th>cuisines</th>\n",
       "      <th></th>\n",
       "    </tr>\n",
       "  </thead>\n",
       "  <tbody>\n",
       "    <tr>\n",
       "      <th>north_indian</th>\n",
       "      <td>2846</td>\n",
       "    </tr>\n",
       "    <tr>\n",
       "      <th>north_indian chinese</th>\n",
       "      <td>2318</td>\n",
       "    </tr>\n",
       "    <tr>\n",
       "      <th>south_indian</th>\n",
       "      <td>1822</td>\n",
       "    </tr>\n",
       "    <tr>\n",
       "      <th>biryani</th>\n",
       "      <td>906</td>\n",
       "    </tr>\n",
       "    <tr>\n",
       "      <th>bakery desserts</th>\n",
       "      <td>891</td>\n",
       "    </tr>\n",
       "    <tr>\n",
       "      <th>fast_food</th>\n",
       "      <td>797</td>\n",
       "    </tr>\n",
       "    <tr>\n",
       "      <th>desserts</th>\n",
       "      <td>760</td>\n",
       "    </tr>\n",
       "    <tr>\n",
       "      <th>cafe</th>\n",
       "      <td>726</td>\n",
       "    </tr>\n",
       "    <tr>\n",
       "      <th>south_indiannorth_indian chinese</th>\n",
       "      <td>724</td>\n",
       "    </tr>\n",
       "    <tr>\n",
       "      <th>bakery</th>\n",
       "      <td>649</td>\n",
       "    </tr>\n",
       "  </tbody>\n",
       "</table>\n",
       "</div>"
      ],
      "text/plain": [
       "                                  cuisines\n",
       "cuisines                                  \n",
       "north_indian                          2846\n",
       "north_indian chinese                  2318\n",
       "south_indian                          1822\n",
       "biryani                                906\n",
       "bakery desserts                        891\n",
       "fast_food                              797\n",
       "desserts                               760\n",
       "cafe                                   726\n",
       "south_indiannorth_indian chinese       724\n",
       "bakery                                 649"
      ]
     },
     "execution_count": 49,
     "metadata": {},
     "output_type": "execute_result"
    }
   ],
   "source": [
    "pd.DataFrame(dt.groupby('cuisines')['cuisines'].agg('count').sort_values(ascending=False).head(10))"
   ]
  },
  {
   "cell_type": "markdown",
   "id": "c5cf3755",
   "metadata": {},
   "source": [
    "### Cost for two people"
   ]
  },
  {
   "cell_type": "code",
   "execution_count": 50,
   "id": "9c1d13e2",
   "metadata": {},
   "outputs": [
    {
     "data": {
      "image/png": "[encoded data removed]",
      "text/plain": [
       "<Figure size 936x1008 with 2 Axes>"
      ]
     },
     "metadata": {},
     "output_type": "display_data"
    }
   ],
   "source": [
    "fig=plt.figure(figsize=(13,14))\n",
    "ax4=fig.add_subplot(3,2,1)\n",
    "ax5=fig.add_subplot(3,2,2)\n",
    "sns.distplot(dt['approx_cost(for two people)'],ax=ax4)\n",
    "sns.boxplot(dt['approx_cost(for two people)'],ax=ax5)\n",
    "plt.show()\n"
   ]
  },
  {
   "cell_type": "markdown",
   "id": "f8c36f55",
   "metadata": {},
   "source": [
    "Distribution is right skewed. We can see that approximate cost for two people is less 1000 in most of the cases"
   ]
  },
  {
   "cell_type": "code",
   "execution_count": 51,
   "id": "211aa36a",
   "metadata": {},
   "outputs": [
    {
     "data": {
      "text/plain": [
       "location\n",
       "sankey_road         2505.555556\n",
       "race_course_road    1309.352518\n",
       "lavelle_road        1307.934990\n",
       "mg_road             1155.704698\n",
       "residency_road       966.320475\n",
       "Name: approx_cost(for two people), dtype: float64"
      ]
     },
     "execution_count": 51,
     "metadata": {},
     "output_type": "execute_result"
    }
   ],
   "source": [
    "#Top 5 costliest location in bangalore\n",
    "dt.groupby('location')['approx_cost(for two people)'].mean().sort_values(ascending=False).head(5)"
   ]
  },
  {
   "cell_type": "code",
   "execution_count": 52,
   "id": "c80d97e9",
   "metadata": {},
   "outputs": [
    {
     "data": {
      "text/html": [
       "<div>\n",
       "<style scoped>\n",
       "    .dataframe tbody tr th:only-of-type {\n",
       "        vertical-align: middle;\n",
       "    }\n",
       "\n",
       "    .dataframe tbody tr th {\n",
       "        vertical-align: top;\n",
       "    }\n",
       "\n",
       "    .dataframe thead th {\n",
       "        text-align: right;\n",
       "    }\n",
       "</style>\n",
       "<table border=\"1\" class=\"dataframe\">\n",
       "  <thead>\n",
       "    <tr style=\"text-align: right;\">\n",
       "      <th></th>\n",
       "      <th>approx_cost(for two people)</th>\n",
       "    </tr>\n",
       "    <tr>\n",
       "      <th>location</th>\n",
       "      <th></th>\n",
       "    </tr>\n",
       "  </thead>\n",
       "  <tbody>\n",
       "    <tr>\n",
       "      <th>peenya</th>\n",
       "      <td>300.000000</td>\n",
       "    </tr>\n",
       "    <tr>\n",
       "      <th>city_market</th>\n",
       "      <td>302.426230</td>\n",
       "    </tr>\n",
       "    <tr>\n",
       "      <th>yelahanka</th>\n",
       "      <td>310.000000</td>\n",
       "    </tr>\n",
       "    <tr>\n",
       "      <th>cv_raman_nagar</th>\n",
       "      <td>311.111111</td>\n",
       "    </tr>\n",
       "    <tr>\n",
       "      <th>ejipura</th>\n",
       "      <td>320.506912</td>\n",
       "    </tr>\n",
       "  </tbody>\n",
       "</table>\n",
       "</div>"
      ],
      "text/plain": [
       "                approx_cost(for two people)\n",
       "location                                   \n",
       "peenya                           300.000000\n",
       "city_market                      302.426230\n",
       "yelahanka                        310.000000\n",
       "cv_raman_nagar                   311.111111\n",
       "ejipura                          320.506912"
      ]
     },
     "execution_count": 52,
     "metadata": {},
     "output_type": "execute_result"
    }
   ],
   "source": [
    "pd.DataFrame(dt.groupby('location')['approx_cost(for two people)'].mean().sort_values(ascending=True).head(5))"
   ]
  },
  {
   "cell_type": "code",
   "execution_count": 53,
   "id": "67efe66b",
   "metadata": {},
   "outputs": [
    {
     "data": {
      "text/plain": [
       "<AxesSubplot:xlabel='approx_cost(for two people)', ylabel='count'>"
      ]
     },
     "execution_count": 53,
     "metadata": {},
     "output_type": "execute_result"
    },
    {
     "data": {
      "image/png": "[encoded data removed]",
      "text/plain": [
       "<Figure size 504x216 with 1 Axes>"
      ]
     },
     "metadata": {},
     "output_type": "display_data"
    }
   ],
   "source": [
    "sns.countplot(dt['approx_cost(for two people)'])"
   ]
  },
  {
   "cell_type": "markdown",
   "id": "fa7892c3",
   "metadata": {},
   "source": [
    "### To determine there is a relation between online order and ratings"
   ]
  },
  {
   "cell_type": "markdown",
   "id": "f4adbaaa",
   "metadata": {},
   "source": [
    "H0: There is no difference in mean rating of restaurasnts that provide online order facility \n",
    "    and of that restaurants that dont provide online book facility\n",
    "    \n",
    "H1:There is difference in mean rating of restaurasnts that provide online order facility \n",
    "    and of that restaurants that dont provide online book facility"
   ]
  },
  {
   "cell_type": "code",
   "execution_count": 54,
   "id": "bec62c70",
   "metadata": {},
   "outputs": [
    {
     "data": {
      "text/plain": [
       "Ttest_indResult(statistic=13.797616939342255, pvalue=3.1507216314588605e-43)"
      ]
     },
     "execution_count": 54,
     "metadata": {},
     "output_type": "execute_result"
    }
   ],
   "source": [
    "from scipy import stats\n",
    "yes=dt[dt['online_order']=='yes']\n",
    "no=dt[dt['online_order']=='no']\n",
    "stats.ttest_ind(yes['rate'],no['rate'])"
   ]
  },
  {
   "cell_type": "markdown",
   "id": "216fa741",
   "metadata": {},
   "source": [
    "Here p values is less than 0.05 so we reject null hypothesis\n",
    "There fore we coclude that there is relation between rating and online order facility"
   ]
  },
  {
   "cell_type": "markdown",
   "id": "0bdf42cf",
   "metadata": {},
   "source": [
    "### To dtermine there is a relation between online order and ratings"
   ]
  },
  {
   "cell_type": "markdown",
   "id": "955e8194",
   "metadata": {},
   "source": [
    "H0: There is no difference in mean rating of restaurasnts that provide online order facility and of that restaurants that dont provide online book facility\n",
    "\n",
    "H1:There is difference in mean rating of restaurasnts that provide online order facility and of that restaurants that dont provide online book facility"
   ]
  },
  {
   "cell_type": "code",
   "execution_count": 55,
   "id": "d90ef68b",
   "metadata": {},
   "outputs": [
    {
     "data": {
      "text/plain": [
       "Ttest_indResult(statistic=102.77380626812825, pvalue=0.0)"
      ]
     },
     "execution_count": 55,
     "metadata": {},
     "output_type": "execute_result"
    }
   ],
   "source": [
    "yes=dt[dt['book_table']=='yes']\n",
    "no=dt[dt['book_table']=='no']\n",
    "stats.ttest_ind(yes['rate'],no['rate'])"
   ]
  },
  {
   "cell_type": "markdown",
   "id": "f61558da",
   "metadata": {},
   "source": [
    "p value is zero which is less than 0.05 so we reject null hypothesis and we coclude that there is difference in  mean rating of restaurants that provide book table facility and of that dont provide book table facility "
   ]
  },
  {
   "cell_type": "markdown",
   "id": "b4547540",
   "metadata": {},
   "source": [
    "## Splitting the data to train test"
   ]
  },
  {
   "cell_type": "code",
   "execution_count": 56,
   "id": "4d2b4109",
   "metadata": {},
   "outputs": [
    {
     "data": {
      "text/plain": [
       "Index(['name', 'online_order', 'book_table', 'rate', 'votes', 'location',\n",
       "       'rest_type', 'dish_liked', 'cuisines', 'approx_cost(for two people)',\n",
       "       'reviews_list', 'menu_item', 'listed_in(type)', 'listed_in(city)'],\n",
       "      dtype='object')"
      ]
     },
     "execution_count": 56,
     "metadata": {},
     "output_type": "execute_result"
    }
   ],
   "source": [
    "dt.columns"
   ]
  },
  {
   "cell_type": "code",
   "execution_count": 57,
   "id": "26c76660",
   "metadata": {},
   "outputs": [],
   "source": [
    "x=dt.iloc[:,[0,1,2,4,5,6,7,8,9,10,11,12,13]]\n",
    "y=dt.iloc[:,3]s\n",
    "from sklearn.model_selection import train_test_split\n",
    "x_train,x_test,y_train,y_test=train_test_split(x,y,test_size=0.2,random_state=1)"
   ]
  },
  {
   "cell_type": "code",
   "execution_count": 58,
   "id": "d2852a71",
   "metadata": {},
   "outputs": [
    {
     "data": {
      "text/plain": [
       "(40804, 13)"
      ]
     },
     "execution_count": 58,
     "metadata": {},
     "output_type": "execute_result"
    }
   ],
   "source": [
    "x_train.shape"
   ]
  },
  {
   "cell_type": "code",
   "execution_count": 59,
   "id": "8e4c3630",
   "metadata": {},
   "outputs": [
    {
     "data": {
      "text/plain": [
       "(10202, 13)"
      ]
     },
     "execution_count": 59,
     "metadata": {},
     "output_type": "execute_result"
    }
   ],
   "source": [
    "x_test.shape"
   ]
  },
  {
   "cell_type": "markdown",
   "id": "fec83755",
   "metadata": {},
   "source": [
    "### Bag of words(Bow) vectorisation"
   ]
  },
  {
   "cell_type": "code",
   "execution_count": 51,
   "id": "372785c3",
   "metadata": {},
   "outputs": [],
   "source": [
    "from sklearn.feature_extraction.text import CountVectorizer\n",
    "vec=CountVectorizer()\n"
   ]
  },
  {
   "cell_type": "code",
   "execution_count": 52,
   "id": "e74a48e0",
   "metadata": {},
   "outputs": [
    {
     "name": "stdout",
     "output_type": "stream",
     "text": [
      "(40804, 2)\n",
      "(10202, 2)\n"
     ]
    }
   ],
   "source": [
    "#Book order\n",
    "x_train_order=vec.fit_transform(x_train['online_order'].values)\n",
    "x_test_order=vec.transform(x_test['online_order'].values)\n",
    "print(x_train_order.shape)\n",
    "print(x_test_order.shape)"
   ]
  },
  {
   "cell_type": "code",
   "execution_count": 53,
   "id": "0bc028e8",
   "metadata": {},
   "outputs": [
    {
     "name": "stdout",
     "output_type": "stream",
     "text": [
      "(40804, 2)\n",
      "(10202, 2)\n"
     ]
    }
   ],
   "source": [
    "#Book table\n",
    "\n",
    "x_train_booktable=vec.fit_transform(x_train['book_table'].values)\n",
    "x_test_booktable=vec.fit_transform(x_test['book_table'].values)\n",
    "\n",
    "print(x_train_booktable.shape)\n",
    "print(x_test_booktable.shape)"
   ]
  },
  {
   "cell_type": "code",
   "execution_count": 54,
   "id": "49b42e66",
   "metadata": {},
   "outputs": [
    {
     "name": "stdout",
     "output_type": "stream",
     "text": [
      "(40804, 94)\n",
      "(10202, 94)\n"
     ]
    }
   ],
   "source": [
    "#location\n",
    "vec=CountVectorizer()\n",
    "x_train_location=vec.fit_transform(x_train['location'].values)\n",
    "x_test_location=vec.transform(x_test['location'].values)\n",
    "print(x_train_location.shape)\n",
    "print(x_test_location.shape)"
   ]
  },
  {
   "cell_type": "code",
   "execution_count": 55,
   "id": "3297af72",
   "metadata": {},
   "outputs": [
    {
     "name": "stdout",
     "output_type": "stream",
     "text": [
      "(40804, 91)\n",
      "(10202, 91)\n"
     ]
    }
   ],
   "source": [
    "#rest_type\n",
    "vec=CountVectorizer()\n",
    "vec.fit(x_train['rest_type'].values)\n",
    "x_train_resttype=vec.transform(x_train['rest_type'].values)\n",
    "x_test_resttype=vec.transform(x_test['rest_type'].values)\n",
    "print(x_train_resttype.shape)\n",
    "print(x_test_resttype.shape)"
   ]
  },
  {
   "cell_type": "code",
   "execution_count": 56,
   "id": "b46b4bff",
   "metadata": {},
   "outputs": [
    {
     "name": "stdout",
     "output_type": "stream",
     "text": [
      "(40804, 4988)\n",
      "(10202, 4988)\n"
     ]
    }
   ],
   "source": [
    "#dish liked\n",
    "vec=CountVectorizer()\n",
    "x_train_dishliked=vec.fit_transform(x_train['dish_liked'].values)\n",
    "x_test_dishliked=vec.transform(x_test['dish_liked'].values)\n",
    "print(x_train_dishliked.shape)\n",
    "print(x_test_dishliked.shape)"
   ]
  },
  {
   "cell_type": "code",
   "execution_count": 57,
   "id": "1d760e05",
   "metadata": {},
   "outputs": [
    {
     "name": "stdout",
     "output_type": "stream",
     "text": [
      "(40804, 2629)\n",
      "(10202, 2629)\n"
     ]
    }
   ],
   "source": [
    "#cuisines\n",
    "vec=CountVectorizer()\n",
    "x_train_cuisines=vec.fit_transform(x_train['cuisines'].values)\n",
    "x_test_cuisines=vec.transform(x_test['cuisines'].values)\n",
    "print(x_train_cuisines.shape)\n",
    "print(x_test_cuisines.shape)"
   ]
  },
  {
   "cell_type": "code",
   "execution_count": 58,
   "id": "f7f7c036",
   "metadata": {},
   "outputs": [
    {
     "name": "stdout",
     "output_type": "stream",
     "text": [
      "(40804, 121989)\n",
      "(10202, 121989)\n"
     ]
    }
   ],
   "source": [
    "#menu_item\n",
    "vec=CountVectorizer()\n",
    "vec.fit(x_train['menu_item'].values)\n",
    "x_train_menuitem=vec.transform(x_train['menu_item'].values)\n",
    "x_test_menuitem=vec.transform(x_test['menu_item'].values)\n",
    "print(x_train_menuitem.shape)\n",
    "print(x_test_menuitem.shape)\n"
   ]
  },
  {
   "cell_type": "code",
   "execution_count": 59,
   "id": "9a544730",
   "metadata": {},
   "outputs": [],
   "source": [
    "#listed_in(type)\n",
    "\n",
    "x_train_listedtype=vec.fit_transform(x_train['listed_in(type)'].values)\n",
    "x_test_listedtype=vec.transform(x_test['listed_in(type)'].values)"
   ]
  },
  {
   "cell_type": "code",
   "execution_count": 60,
   "id": "598d5221",
   "metadata": {},
   "outputs": [],
   "source": [
    "#listed_in(city)\n",
    "x_train_listedcity=vec.fit_transform(x_train['listed_in(city)'].values)\n",
    "x_test_listedcity=vec.transform(x_test['listed_in(city)'].values)\n"
   ]
  },
  {
   "cell_type": "code",
   "execution_count": 61,
   "id": "787fcbfc",
   "metadata": {},
   "outputs": [],
   "source": [
    "#dish_liked\n",
    "x_train_reviewlist=vec.fit_transform(x_train['dish_liked'].values)\n",
    "x_test_reviewlist=vec.transform(x_test['dish_liked'].values)"
   ]
  },
  {
   "cell_type": "markdown",
   "id": "af2d2866",
   "metadata": {},
   "source": [
    "### Normalizing numeric columns"
   ]
  },
  {
   "cell_type": "code",
   "execution_count": 62,
   "id": "75f856fa",
   "metadata": {},
   "outputs": [],
   "source": [
    "from sklearn.preprocessing import StandardScaler\n",
    "scale=StandardScaler()"
   ]
  },
  {
   "cell_type": "code",
   "execution_count": 63,
   "id": "81064097",
   "metadata": {},
   "outputs": [
    {
     "name": "stdout",
     "output_type": "stream",
     "text": [
      "(40804, 1)\n"
     ]
    }
   ],
   "source": [
    "# votes\n",
    "\n",
    "#finnding mean and stdvtn using train data\n",
    "\n",
    "scale.fit(x_train['votes'].values.reshape(-1,1))\n",
    "\n",
    "#normalising testand train by estimates\n",
    "\n",
    "x_train_votes=scale.transform(x_train['votes'].values.reshape(-1,1))\n",
    "x_test_votes=scale.transform(x_test['votes'].values.reshape(-1,1))\n",
    "print(x_train_votes.shape)"
   ]
  },
  {
   "cell_type": "code",
   "execution_count": 64,
   "id": "e6fd39c1",
   "metadata": {},
   "outputs": [
    {
     "name": "stdout",
     "output_type": "stream",
     "text": [
      "(10202, 1)\n"
     ]
    }
   ],
   "source": [
    "#aprox_cost\n",
    "\n",
    "#finding mean and stddvtn using train data\n",
    "\n",
    "scale.fit(x_train['approx_cost(for two people)'].values.reshape(-1,1))\n",
    "\n",
    "#standardizing bot test and train using paramters estimated from train\n",
    "x_train_cost=scale.transform(x_train['approx_cost(for two people)'].values.reshape(-1,1))\n",
    "x_test_cost=scale.transform(x_test['approx_cost(for two people)'].values.reshape(-1,1))\n",
    "print(x_test_cost.shape)\n"
   ]
  },
  {
   "cell_type": "markdown",
   "id": "c2a3bd92",
   "metadata": {},
   "source": [
    "### Joining all features"
   ]
  },
  {
   "cell_type": "code",
   "execution_count": 65,
   "id": "efe17bfd",
   "metadata": {},
   "outputs": [],
   "source": [
    "from scipy.sparse import hstack"
   ]
  },
  {
   "cell_type": "code",
   "execution_count": 66,
   "id": "f094744a",
   "metadata": {},
   "outputs": [],
   "source": [
    "x_trn=hstack((x_train_order,x_train_booktable,x_train_location,x_train_resttype,x_train_dishliked,x_train_cuisines,x_train_menuitem,x_train_listedtype,x_train_listedcity,x_train_reviewlist)).tocsr()\n",
    "x_tst=hstack((x_test_order,x_test_booktable,x_test_location,x_test_resttype,x_test_dishliked,x_test_cuisines,x_test_menuitem,x_test_listedtype,x_test_listedcity,x_test_reviewlist)).tocsr()\n"
   ]
  },
  {
   "cell_type": "code",
   "execution_count": 67,
   "id": "b2084b72",
   "metadata": {},
   "outputs": [
    {
     "name": "stdout",
     "output_type": "stream",
     "text": [
      "(40804, 134822) (40804,)\n",
      "(10202, 134822) (10202,)\n"
     ]
    }
   ],
   "source": [
    "print(x_trn.shape , y_train.shape)\n",
    "print(x_tst.shape,y_test.shape)"
   ]
  },
  {
   "cell_type": "markdown",
   "id": "4a14213c",
   "metadata": {},
   "source": [
    "### Model building"
   ]
  },
  {
   "cell_type": "markdown",
   "id": "d0a3e6dc",
   "metadata": {},
   "source": [
    "### Linear Regression"
   ]
  },
  {
   "cell_type": "code",
   "execution_count": 68,
   "id": "47ba931a",
   "metadata": {},
   "outputs": [],
   "source": [
    "#Lineear regression\n",
    "\n",
    "lr=LinearRegression()\n",
    "\n",
    "lr.fit(x_trn,y_train)\n",
    "\n",
    "y_predct=lr.predict(x_tst)"
   ]
  },
  {
   "cell_type": "code",
   "execution_count": 69,
   "id": "d496f490",
   "metadata": {},
   "outputs": [
    {
     "name": "stdout",
     "output_type": "stream",
     "text": [
      "0.6369406091796417\n"
     ]
    }
   ],
   "source": [
    "print(r2_score(y_test,y_predct,multioutput='uniform_average'))"
   ]
  },
  {
   "cell_type": "markdown",
   "id": "ad5a231e",
   "metadata": {},
   "source": [
    "Linearregression score is 0.63694"
   ]
  },
  {
   "cell_type": "markdown",
   "id": "4da4c811",
   "metadata": {},
   "source": [
    "### Decision Tree"
   ]
  },
  {
   "cell_type": "code",
   "execution_count": 70,
   "id": "9c3056de",
   "metadata": {},
   "outputs": [
    {
     "name": "stdout",
     "output_type": "stream",
     "text": [
      "0.7827443675687709\n"
     ]
    }
   ],
   "source": [
    "#Decision tree regressor\n",
    "\n",
    "dcsn=DecisionTreeRegressor()\n",
    "dcsn.fit(x_trn,y_train)\n",
    "\n",
    "dcsn_predict=dcsn.predict(x_tst)\n",
    "\n",
    "print(r2_score(y_test,dcsn_predict,multioutput='uniform_average'))"
   ]
  },
  {
   "cell_type": "markdown",
   "id": "1de80e92",
   "metadata": {},
   "source": [
    "Decsion tree score is 0.77933"
   ]
  },
  {
   "cell_type": "markdown",
   "id": "f145b6e1",
   "metadata": {},
   "source": [
    "### Random forest"
   ]
  },
  {
   "cell_type": "code",
   "execution_count": null,
   "id": "68efa52d",
   "metadata": {},
   "outputs": [],
   "source": [
    "rnd=RandomForestRegressor(random_state=0 , n_estimators=100)\n",
    "\n",
    "rnd.fit(x_trn,y_train)\n",
    "\n",
    "random_prdct=rnd.predict(x_tst)"
   ]
  },
  {
   "cell_type": "code",
   "execution_count": null,
   "id": "2f72e736",
   "metadata": {},
   "outputs": [],
   "source": [
    "print(r2_score(y_test,random_prdct,multioutput='uniform_average'))"
   ]
  },
  {
   "cell_type": "code",
   "execution_count": null,
   "id": "bce0e944",
   "metadata": {},
   "outputs": [],
   "source": []
  },
  {
   "cell_type": "code",
   "execution_count": null,
   "id": "7a435bf9",
   "metadata": {},
   "outputs": [],
   "source": []
  }
 ],
 "metadata": {
  "kernelspec": {
   "display_name": "Python 3 (ipykernel)",
   "language": "python",
   "name": "python3"
  },
  "language_info": {
   "codemirror_mode": {
    "name": "ipython",
    "version": 3
   },
   "file_extension": ".py",
   "mimetype": "text/x-python",
   "name": "python",
   "nbconvert_exporter": "python",
   "pygments_lexer": "ipython3",
   "version": "3.9.7"
  }
 },
 "nbformat": 4,
 "nbformat_minor": 5
}
