{
 "cells": [
  {
   "cell_type": "markdown",
   "id": "9dcd6365",
   "metadata": {},
   "source": [
    "### Data cleaning"
   ]
  },
  {
   "cell_type": "markdown",
   "id": "5411a91b",
   "metadata": {},
   "source": [
    "###### To predicting the rating of restaurants based on reviews given by the users.\n"
   ]
  },
  {
   "cell_type": "markdown",
   "id": "473096ba",
   "metadata": {},
   "source": [
    "To determine is there any relationship between online booked and rating.\n"
   ]
  },
  {
   "cell_type": "markdown",
   "id": "fda0068b",
   "metadata": {},
   "source": [
    "To determine is there relationship between approximate cost and rating.\n"
   ]
  },
  {
   "cell_type": "markdown",
   "id": "82c9090b",
   "metadata": {},
   "source": [
    "To determine is there any relationship between table booking and rating."
   ]
  },
  {
   "cell_type": "markdown",
   "id": "4feee1d5",
   "metadata": {},
   "source": [
    "To identify which location having the highest number of restaurants.\n"
   ]
  },
  {
   "cell_type": "markdown",
   "id": "3e568402",
   "metadata": {},
   "source": [
    "To determine How many Restaurants are accepting online orders"
   ]
  },
  {
   "cell_type": "code",
   "execution_count": 1,
   "id": "004d0f62",
   "metadata": {},
   "outputs": [],
   "source": [
    "#loading required modules\n",
    "import numpy as np  # for scientific computing (mathematical operations)\n",
    "import pandas as pd # for data preparation and data handling\n",
    "import matplotlib.pyplot as plt  #for visualisation of data (2d)\n",
    "import re\n",
    "import seaborn as sns # For higher visualisation of data\n",
    "from sklearn.linear_model import LinearRegression  #for building linear regression\n",
    "from sklearn.model_selection import train_test_split\n",
    "import warnings\n",
    "warnings.filterwarnings(\"ignore\")\n",
    "\n",
    "\n"
   ]
  },
  {
   "cell_type": "code",
   "execution_count": 6,
   "id": "115ebd7b",
   "metadata": {},
   "outputs": [],
   "source": [
    "#importing data from my local system\n",
    "df=pd.read_csv(\"zomato.csv.zip\" ) "
   ]
  },
  {
   "cell_type": "code",
   "execution_count": 7,
   "id": "eca5d216",
   "metadata": {},
   "outputs": [
    {
     "data": {
      "text/html": [
       "<div>\n",
       "<style scoped>\n",
       "    .dataframe tbody tr th:only-of-type {\n",
       "        vertical-align: middle;\n",
       "    }\n",
       "\n",
       "    .dataframe tbody tr th {\n",
       "        vertical-align: top;\n",
       "    }\n",
       "\n",
       "    .dataframe thead th {\n",
       "        text-align: right;\n",
       "    }\n",
       "</style>\n",
       "<table border=\"1\" class=\"dataframe\">\n",
       "  <thead>\n",
       "    <tr style=\"text-align: right;\">\n",
       "      <th></th>\n",
       "      <th>url</th>\n",
       "      <th>address</th>\n",
       "      <th>name</th>\n",
       "      <th>online_order</th>\n",
       "      <th>book_table</th>\n",
       "      <th>rate</th>\n",
       "      <th>votes</th>\n",
       "      <th>phone</th>\n",
       "      <th>location</th>\n",
       "      <th>rest_type</th>\n",
       "      <th>dish_liked</th>\n",
       "      <th>cuisines</th>\n",
       "      <th>approx_cost(for two people)</th>\n",
       "      <th>reviews_list</th>\n",
       "      <th>menu_item</th>\n",
       "      <th>listed_in(type)</th>\n",
       "      <th>listed_in(city)</th>\n",
       "    </tr>\n",
       "  </thead>\n",
       "  <tbody>\n",
       "    <tr>\n",
       "      <th>0</th>\n",
       "      <td>https://www.zomato.com/bangalore/jalsa-banasha...</td>\n",
       "      <td>942, 21st Main Road, 2nd Stage, Banashankari, ...</td>\n",
       "      <td>Jalsa</td>\n",
       "      <td>Yes</td>\n",
       "      <td>Yes</td>\n",
       "      <td>4.1/5</td>\n",
       "      <td>775</td>\n",
       "      <td>080 42297555\\r\\n+91 9743772233</td>\n",
       "      <td>Banashankari</td>\n",
       "      <td>Casual Dining</td>\n",
       "      <td>Pasta, Lunch Buffet, Masala Papad, Paneer Laja...</td>\n",
       "      <td>North Indian, Mughlai, Chinese</td>\n",
       "      <td>800</td>\n",
       "      <td>[('Rated 4.0', 'RATED\\n  A beautiful place to ...</td>\n",
       "      <td>[]</td>\n",
       "      <td>Buffet</td>\n",
       "      <td>Banashankari</td>\n",
       "    </tr>\n",
       "    <tr>\n",
       "      <th>1</th>\n",
       "      <td>https://www.zomato.com/bangalore/spice-elephan...</td>\n",
       "      <td>2nd Floor, 80 Feet Road, Near Big Bazaar, 6th ...</td>\n",
       "      <td>Spice Elephant</td>\n",
       "      <td>Yes</td>\n",
       "      <td>No</td>\n",
       "      <td>4.1/5</td>\n",
       "      <td>787</td>\n",
       "      <td>080 41714161</td>\n",
       "      <td>Banashankari</td>\n",
       "      <td>Casual Dining</td>\n",
       "      <td>Momos, Lunch Buffet, Chocolate Nirvana, Thai G...</td>\n",
       "      <td>Chinese, North Indian, Thai</td>\n",
       "      <td>800</td>\n",
       "      <td>[('Rated 4.0', 'RATED\\n  Had been here for din...</td>\n",
       "      <td>[]</td>\n",
       "      <td>Buffet</td>\n",
       "      <td>Banashankari</td>\n",
       "    </tr>\n",
       "    <tr>\n",
       "      <th>2</th>\n",
       "      <td>https://www.zomato.com/SanchurroBangalore?cont...</td>\n",
       "      <td>1112, Next to KIMS Medical College, 17th Cross...</td>\n",
       "      <td>San Churro Cafe</td>\n",
       "      <td>Yes</td>\n",
       "      <td>No</td>\n",
       "      <td>3.8/5</td>\n",
       "      <td>918</td>\n",
       "      <td>+91 9663487993</td>\n",
       "      <td>Banashankari</td>\n",
       "      <td>Cafe, Casual Dining</td>\n",
       "      <td>Churros, Cannelloni, Minestrone Soup, Hot Choc...</td>\n",
       "      <td>Cafe, Mexican, Italian</td>\n",
       "      <td>800</td>\n",
       "      <td>[('Rated 3.0', \"RATED\\n  Ambience is not that ...</td>\n",
       "      <td>[]</td>\n",
       "      <td>Buffet</td>\n",
       "      <td>Banashankari</td>\n",
       "    </tr>\n",
       "    <tr>\n",
       "      <th>3</th>\n",
       "      <td>https://www.zomato.com/bangalore/addhuri-udupi...</td>\n",
       "      <td>1st Floor, Annakuteera, 3rd Stage, Banashankar...</td>\n",
       "      <td>Addhuri Udupi Bhojana</td>\n",
       "      <td>No</td>\n",
       "      <td>No</td>\n",
       "      <td>3.7/5</td>\n",
       "      <td>88</td>\n",
       "      <td>+91 9620009302</td>\n",
       "      <td>Banashankari</td>\n",
       "      <td>Quick Bites</td>\n",
       "      <td>Masala Dosa</td>\n",
       "      <td>South Indian, North Indian</td>\n",
       "      <td>300</td>\n",
       "      <td>[('Rated 4.0', \"RATED\\n  Great food and proper...</td>\n",
       "      <td>[]</td>\n",
       "      <td>Buffet</td>\n",
       "      <td>Banashankari</td>\n",
       "    </tr>\n",
       "    <tr>\n",
       "      <th>4</th>\n",
       "      <td>https://www.zomato.com/bangalore/grand-village...</td>\n",
       "      <td>10, 3rd Floor, Lakshmi Associates, Gandhi Baza...</td>\n",
       "      <td>Grand Village</td>\n",
       "      <td>No</td>\n",
       "      <td>No</td>\n",
       "      <td>3.8/5</td>\n",
       "      <td>166</td>\n",
       "      <td>+91 8026612447\\r\\n+91 9901210005</td>\n",
       "      <td>Basavanagudi</td>\n",
       "      <td>Casual Dining</td>\n",
       "      <td>Panipuri, Gol Gappe</td>\n",
       "      <td>North Indian, Rajasthani</td>\n",
       "      <td>600</td>\n",
       "      <td>[('Rated 4.0', 'RATED\\n  Very good restaurant ...</td>\n",
       "      <td>[]</td>\n",
       "      <td>Buffet</td>\n",
       "      <td>Banashankari</td>\n",
       "    </tr>\n",
       "  </tbody>\n",
       "</table>\n",
       "</div>"
      ],
      "text/plain": [
       "                                                 url  \\\n",
       "0  https://www.zomato.com/bangalore/jalsa-banasha...   \n",
       "1  https://www.zomato.com/bangalore/spice-elephan...   \n",
       "2  https://www.zomato.com/SanchurroBangalore?cont...   \n",
       "3  https://www.zomato.com/bangalore/addhuri-udupi...   \n",
       "4  https://www.zomato.com/bangalore/grand-village...   \n",
       "\n",
       "                                             address                   name  \\\n",
       "0  942, 21st Main Road, 2nd Stage, Banashankari, ...                  Jalsa   \n",
       "1  2nd Floor, 80 Feet Road, Near Big Bazaar, 6th ...         Spice Elephant   \n",
       "2  1112, Next to KIMS Medical College, 17th Cross...        San Churro Cafe   \n",
       "3  1st Floor, Annakuteera, 3rd Stage, Banashankar...  Addhuri Udupi Bhojana   \n",
       "4  10, 3rd Floor, Lakshmi Associates, Gandhi Baza...          Grand Village   \n",
       "\n",
       "  online_order book_table   rate  votes                             phone  \\\n",
       "0          Yes        Yes  4.1/5    775    080 42297555\\r\\n+91 9743772233   \n",
       "1          Yes         No  4.1/5    787                      080 41714161   \n",
       "2          Yes         No  3.8/5    918                    +91 9663487993   \n",
       "3           No         No  3.7/5     88                    +91 9620009302   \n",
       "4           No         No  3.8/5    166  +91 8026612447\\r\\n+91 9901210005   \n",
       "\n",
       "       location            rest_type  \\\n",
       "0  Banashankari        Casual Dining   \n",
       "1  Banashankari        Casual Dining   \n",
       "2  Banashankari  Cafe, Casual Dining   \n",
       "3  Banashankari          Quick Bites   \n",
       "4  Basavanagudi        Casual Dining   \n",
       "\n",
       "                                          dish_liked  \\\n",
       "0  Pasta, Lunch Buffet, Masala Papad, Paneer Laja...   \n",
       "1  Momos, Lunch Buffet, Chocolate Nirvana, Thai G...   \n",
       "2  Churros, Cannelloni, Minestrone Soup, Hot Choc...   \n",
       "3                                        Masala Dosa   \n",
       "4                                Panipuri, Gol Gappe   \n",
       "\n",
       "                         cuisines approx_cost(for two people)  \\\n",
       "0  North Indian, Mughlai, Chinese                         800   \n",
       "1     Chinese, North Indian, Thai                         800   \n",
       "2          Cafe, Mexican, Italian                         800   \n",
       "3      South Indian, North Indian                         300   \n",
       "4        North Indian, Rajasthani                         600   \n",
       "\n",
       "                                        reviews_list menu_item  \\\n",
       "0  [('Rated 4.0', 'RATED\\n  A beautiful place to ...        []   \n",
       "1  [('Rated 4.0', 'RATED\\n  Had been here for din...        []   \n",
       "2  [('Rated 3.0', \"RATED\\n  Ambience is not that ...        []   \n",
       "3  [('Rated 4.0', \"RATED\\n  Great food and proper...        []   \n",
       "4  [('Rated 4.0', 'RATED\\n  Very good restaurant ...        []   \n",
       "\n",
       "  listed_in(type) listed_in(city)  \n",
       "0          Buffet    Banashankari  \n",
       "1          Buffet    Banashankari  \n",
       "2          Buffet    Banashankari  \n",
       "3          Buffet    Banashankari  \n",
       "4          Buffet    Banashankari  "
      ]
     },
     "execution_count": 7,
     "metadata": {},
     "output_type": "execute_result"
    }
   ],
   "source": [
    "#Checking first 5 rows of data\n",
    "df.head(5)"
   ]
  },
  {
   "cell_type": "code",
   "execution_count": 8,
   "id": "85f40dcd",
   "metadata": {},
   "outputs": [
    {
     "name": "stdout",
     "output_type": "stream",
     "text": [
      "No of rows in data set 51717\n",
      "No of columns in data set 17\n"
     ]
    }
   ],
   "source": [
    "#checking shapes\n",
    "print(\"No of rows in data set\",df.shape[0])\n",
    "print(\"No of columns in data set\",df.shape[1])"
   ]
  },
  {
   "cell_type": "code",
   "execution_count": 9,
   "id": "d9c4af53",
   "metadata": {},
   "outputs": [
    {
     "data": {
      "text/plain": [
       "Index(['url', 'address', 'name', 'online_order', 'book_table', 'rate', 'votes',\n",
       "       'phone', 'location', 'rest_type', 'dish_liked', 'cuisines',\n",
       "       'approx_cost(for two people)', 'reviews_list', 'menu_item',\n",
       "       'listed_in(type)', 'listed_in(city)'],\n",
       "      dtype='object')"
      ]
     },
     "execution_count": 9,
     "metadata": {},
     "output_type": "execute_result"
    }
   ],
   "source": [
    "#there are 17 colmns,reading names to know the available columns\n",
    "df.columns"
   ]
  },
  {
   "cell_type": "code",
   "execution_count": 10,
   "id": "cf07936a",
   "metadata": {},
   "outputs": [],
   "source": [
    "#Since we are studying the reviews of restaurant , customers personel details are not  required\n",
    "#so will drop columns such as url 'phone'"
   ]
  },
  {
   "cell_type": "code",
   "execution_count": 11,
   "id": "abd097d8",
   "metadata": {},
   "outputs": [],
   "source": [
    "df=df.drop(df.columns[[0,1,7]],axis=1) #droping clmns"
   ]
  },
  {
   "cell_type": "code",
   "execution_count": 12,
   "id": "c152284b",
   "metadata": {},
   "outputs": [
    {
     "data": {
      "text/html": [
       "<div>\n",
       "<style scoped>\n",
       "    .dataframe tbody tr th:only-of-type {\n",
       "        vertical-align: middle;\n",
       "    }\n",
       "\n",
       "    .dataframe tbody tr th {\n",
       "        vertical-align: top;\n",
       "    }\n",
       "\n",
       "    .dataframe thead th {\n",
       "        text-align: right;\n",
       "    }\n",
       "</style>\n",
       "<table border=\"1\" class=\"dataframe\">\n",
       "  <thead>\n",
       "    <tr style=\"text-align: right;\">\n",
       "      <th></th>\n",
       "      <th>name</th>\n",
       "      <th>online_order</th>\n",
       "      <th>book_table</th>\n",
       "      <th>rate</th>\n",
       "      <th>votes</th>\n",
       "      <th>location</th>\n",
       "      <th>rest_type</th>\n",
       "      <th>dish_liked</th>\n",
       "      <th>cuisines</th>\n",
       "      <th>approx_cost(for two people)</th>\n",
       "      <th>reviews_list</th>\n",
       "      <th>menu_item</th>\n",
       "      <th>listed_in(type)</th>\n",
       "      <th>listed_in(city)</th>\n",
       "    </tr>\n",
       "  </thead>\n",
       "  <tbody>\n",
       "    <tr>\n",
       "      <th>0</th>\n",
       "      <td>Jalsa</td>\n",
       "      <td>Yes</td>\n",
       "      <td>Yes</td>\n",
       "      <td>4.1/5</td>\n",
       "      <td>775</td>\n",
       "      <td>Banashankari</td>\n",
       "      <td>Casual Dining</td>\n",
       "      <td>Pasta, Lunch Buffet, Masala Papad, Paneer Laja...</td>\n",
       "      <td>North Indian, Mughlai, Chinese</td>\n",
       "      <td>800</td>\n",
       "      <td>[('Rated 4.0', 'RATED\\n  A beautiful place to ...</td>\n",
       "      <td>[]</td>\n",
       "      <td>Buffet</td>\n",
       "      <td>Banashankari</td>\n",
       "    </tr>\n",
       "    <tr>\n",
       "      <th>1</th>\n",
       "      <td>Spice Elephant</td>\n",
       "      <td>Yes</td>\n",
       "      <td>No</td>\n",
       "      <td>4.1/5</td>\n",
       "      <td>787</td>\n",
       "      <td>Banashankari</td>\n",
       "      <td>Casual Dining</td>\n",
       "      <td>Momos, Lunch Buffet, Chocolate Nirvana, Thai G...</td>\n",
       "      <td>Chinese, North Indian, Thai</td>\n",
       "      <td>800</td>\n",
       "      <td>[('Rated 4.0', 'RATED\\n  Had been here for din...</td>\n",
       "      <td>[]</td>\n",
       "      <td>Buffet</td>\n",
       "      <td>Banashankari</td>\n",
       "    </tr>\n",
       "    <tr>\n",
       "      <th>2</th>\n",
       "      <td>San Churro Cafe</td>\n",
       "      <td>Yes</td>\n",
       "      <td>No</td>\n",
       "      <td>3.8/5</td>\n",
       "      <td>918</td>\n",
       "      <td>Banashankari</td>\n",
       "      <td>Cafe, Casual Dining</td>\n",
       "      <td>Churros, Cannelloni, Minestrone Soup, Hot Choc...</td>\n",
       "      <td>Cafe, Mexican, Italian</td>\n",
       "      <td>800</td>\n",
       "      <td>[('Rated 3.0', \"RATED\\n  Ambience is not that ...</td>\n",
       "      <td>[]</td>\n",
       "      <td>Buffet</td>\n",
       "      <td>Banashankari</td>\n",
       "    </tr>\n",
       "  </tbody>\n",
       "</table>\n",
       "</div>"
      ],
      "text/plain": [
       "              name online_order book_table   rate  votes      location  \\\n",
       "0            Jalsa          Yes        Yes  4.1/5    775  Banashankari   \n",
       "1   Spice Elephant          Yes         No  4.1/5    787  Banashankari   \n",
       "2  San Churro Cafe          Yes         No  3.8/5    918  Banashankari   \n",
       "\n",
       "             rest_type                                         dish_liked  \\\n",
       "0        Casual Dining  Pasta, Lunch Buffet, Masala Papad, Paneer Laja...   \n",
       "1        Casual Dining  Momos, Lunch Buffet, Chocolate Nirvana, Thai G...   \n",
       "2  Cafe, Casual Dining  Churros, Cannelloni, Minestrone Soup, Hot Choc...   \n",
       "\n",
       "                         cuisines approx_cost(for two people)  \\\n",
       "0  North Indian, Mughlai, Chinese                         800   \n",
       "1     Chinese, North Indian, Thai                         800   \n",
       "2          Cafe, Mexican, Italian                         800   \n",
       "\n",
       "                                        reviews_list menu_item  \\\n",
       "0  [('Rated 4.0', 'RATED\\n  A beautiful place to ...        []   \n",
       "1  [('Rated 4.0', 'RATED\\n  Had been here for din...        []   \n",
       "2  [('Rated 3.0', \"RATED\\n  Ambience is not that ...        []   \n",
       "\n",
       "  listed_in(type) listed_in(city)  \n",
       "0          Buffet    Banashankari  \n",
       "1          Buffet    Banashankari  \n",
       "2          Buffet    Banashankari  "
      ]
     },
     "execution_count": 12,
     "metadata": {},
     "output_type": "execute_result"
    }
   ],
   "source": [
    "#To test whether drop action is perforemd or not\n",
    "df.head(3)"
   ]
  },
  {
   "cell_type": "code",
   "execution_count": 13,
   "id": "311ffe18",
   "metadata": {},
   "outputs": [
    {
     "data": {
      "text/plain": [
       "name                           object\n",
       "online_order                   object\n",
       "book_table                     object\n",
       "rate                           object\n",
       "votes                           int64\n",
       "location                       object\n",
       "rest_type                      object\n",
       "dish_liked                     object\n",
       "cuisines                       object\n",
       "approx_cost(for two people)    object\n",
       "reviews_list                   object\n",
       "menu_item                      object\n",
       "listed_in(type)                object\n",
       "listed_in(city)                object\n",
       "dtype: object"
      ]
     },
     "execution_count": 13,
     "metadata": {},
     "output_type": "execute_result"
    }
   ],
   "source": [
    "#checking data types\n",
    "df.dtypes"
   ]
  },
  {
   "cell_type": "code",
   "execution_count": 14,
   "id": "c4d8d1ff",
   "metadata": {},
   "outputs": [
    {
     "name": "stdout",
     "output_type": "stream",
     "text": [
      "<class 'pandas.core.frame.DataFrame'>\n",
      "RangeIndex: 51717 entries, 0 to 51716\n",
      "Data columns (total 14 columns):\n",
      " #   Column                       Non-Null Count  Dtype \n",
      "---  ------                       --------------  ----- \n",
      " 0   name                         51717 non-null  object\n",
      " 1   online_order                 51717 non-null  object\n",
      " 2   book_table                   51717 non-null  object\n",
      " 3   rate                         43942 non-null  object\n",
      " 4   votes                        51717 non-null  int64 \n",
      " 5   location                     51696 non-null  object\n",
      " 6   rest_type                    51490 non-null  object\n",
      " 7   dish_liked                   23639 non-null  object\n",
      " 8   cuisines                     51672 non-null  object\n",
      " 9   approx_cost(for two people)  51371 non-null  object\n",
      " 10  reviews_list                 51717 non-null  object\n",
      " 11  menu_item                    51717 non-null  object\n",
      " 12  listed_in(type)              51717 non-null  object\n",
      " 13  listed_in(city)              51717 non-null  object\n",
      "dtypes: int64(1), object(13)\n",
      "memory usage: 5.5+ MB\n"
     ]
    }
   ],
   "source": [
    "df.info()"
   ]
  },
  {
   "cell_type": "code",
   "execution_count": 15,
   "id": "83a21c8c",
   "metadata": {},
   "outputs": [],
   "source": [
    "#rate colmn is of object type lets convert it into float\n",
    "\n",
    "#first lets us check it's unique values so we can know if there exist any illegal values"
   ]
  },
  {
   "cell_type": "code",
   "execution_count": 16,
   "id": "12264bf3",
   "metadata": {},
   "outputs": [
    {
     "data": {
      "text/plain": [
       "array(['4.1/5', '3.8/5', '3.7/5', '3.6/5', '4.6/5', '4.0/5', '4.2/5',\n",
       "       '3.9/5', '3.1/5', '3.0/5', '3.2/5', '3.3/5', '2.8/5', '4.4/5',\n",
       "       '4.3/5', 'NEW', '2.9/5', '3.5/5', nan, '2.6/5', '3.8 /5', '3.4/5',\n",
       "       '4.5/5', '2.5/5', '2.7/5', '4.7/5', '2.4/5', '2.2/5', '2.3/5',\n",
       "       '3.4 /5', '-', '3.6 /5', '4.8/5', '3.9 /5', '4.2 /5', '4.0 /5',\n",
       "       '4.1 /5', '3.7 /5', '3.1 /5', '2.9 /5', '3.3 /5', '2.8 /5',\n",
       "       '3.5 /5', '2.7 /5', '2.5 /5', '3.2 /5', '2.6 /5', '4.5 /5',\n",
       "       '4.3 /5', '4.4 /5', '4.9/5', '2.1/5', '2.0/5', '1.8/5', '4.6 /5',\n",
       "       '4.9 /5', '3.0 /5', '4.8 /5', '2.3 /5', '4.7 /5', '2.4 /5',\n",
       "       '2.1 /5', '2.2 /5', '2.0 /5', '1.8 /5'], dtype=object)"
      ]
     },
     "execution_count": 16,
     "metadata": {},
     "output_type": "execute_result"
    }
   ],
   "source": [
    "df[\"rate\"].unique()"
   ]
  },
  {
   "cell_type": "code",
   "execution_count": 17,
   "id": "07bdab0c",
   "metadata": {},
   "outputs": [
    {
     "data": {
      "text/plain": [
       "0    4.1\n",
       "1    4.1\n",
       "2    3.8\n",
       "3    3.7\n",
       "4    3.8\n",
       "Name: rate, dtype: float64"
      ]
     },
     "execution_count": 17,
     "metadata": {},
     "output_type": "execute_result"
    }
   ],
   "source": [
    "#we can observe there is two illegal entries (NEW and '-') and there is /5 which we need to remove\n",
    "\n",
    "def rate(rt):\n",
    "    if (rt=='NEW' or rt=='-'):\n",
    "        return np.nan\n",
    "    else:\n",
    "        a=str(rt).split('/')\n",
    "        rt=a[0]\n",
    "        return float(rt)\n",
    "df['rate']=df['rate'].apply(lambda x : rate(x))\n",
    "df['rate'].head()\n"
   ]
  },
  {
   "cell_type": "code",
   "execution_count": 18,
   "id": "45c42d0f",
   "metadata": {},
   "outputs": [
    {
     "data": {
      "text/plain": [
       "name                               0\n",
       "online_order                       0\n",
       "book_table                         0\n",
       "rate                           10052\n",
       "votes                              0\n",
       "location                          21\n",
       "rest_type                        227\n",
       "dish_liked                     28078\n",
       "cuisines                          45\n",
       "approx_cost(for two people)      346\n",
       "reviews_list                       0\n",
       "menu_item                          0\n",
       "listed_in(type)                    0\n",
       "listed_in(city)                    0\n",
       "dtype: int64"
      ]
     },
     "execution_count": 18,
     "metadata": {},
     "output_type": "execute_result"
    }
   ],
   "source": [
    "#filling and droping null values\n",
    "null=df.isnull().sum()\n",
    "null"
   ]
  },
  {
   "cell_type": "code",
   "execution_count": 19,
   "id": "d346cea7",
   "metadata": {},
   "outputs": [
    {
     "name": "stdout",
     "output_type": "stream",
     "text": [
      "Percentage of null values present are:\n",
      " 74.96 %\n"
     ]
    }
   ],
   "source": [
    "#calculate total amount of null values in % to decide whether to perform drop or fill action\n",
    "total_null=null.sum()\n",
    "total_rows=df.shape[0]\n",
    "print(\"Percentage of null values present are:\\n\",round((total_null/total_rows)*100,2),\"%\")"
   ]
  },
  {
   "cell_type": "code",
   "execution_count": 20,
   "id": "941a36b6",
   "metadata": {},
   "outputs": [
    {
     "data": {
      "text/html": [
       "<div>\n",
       "<style scoped>\n",
       "    .dataframe tbody tr th:only-of-type {\n",
       "        vertical-align: middle;\n",
       "    }\n",
       "\n",
       "    .dataframe tbody tr th {\n",
       "        vertical-align: top;\n",
       "    }\n",
       "\n",
       "    .dataframe thead th {\n",
       "        text-align: right;\n",
       "    }\n",
       "</style>\n",
       "<table border=\"1\" class=\"dataframe\">\n",
       "  <thead>\n",
       "    <tr style=\"text-align: right;\">\n",
       "      <th></th>\n",
       "      <th>index</th>\n",
       "      <th>name</th>\n",
       "      <th>online_order</th>\n",
       "      <th>book_table</th>\n",
       "      <th>rate</th>\n",
       "      <th>votes</th>\n",
       "      <th>location</th>\n",
       "      <th>rest_type</th>\n",
       "      <th>dish_liked</th>\n",
       "      <th>cuisines</th>\n",
       "      <th>approx_cost(for two people)</th>\n",
       "      <th>reviews_list</th>\n",
       "      <th>menu_item</th>\n",
       "      <th>listed_in(type)</th>\n",
       "      <th>listed_in(city)</th>\n",
       "    </tr>\n",
       "  </thead>\n",
       "  <tbody>\n",
       "    <tr>\n",
       "      <th>0</th>\n",
       "      <td>0</td>\n",
       "      <td>Jalsa</td>\n",
       "      <td>Yes</td>\n",
       "      <td>Yes</td>\n",
       "      <td>4.1</td>\n",
       "      <td>775</td>\n",
       "      <td>Banashankari</td>\n",
       "      <td>Casual Dining</td>\n",
       "      <td>Pasta, Lunch Buffet, Masala Papad, Paneer Laja...</td>\n",
       "      <td>North Indian, Mughlai, Chinese</td>\n",
       "      <td>800</td>\n",
       "      <td>[('Rated 4.0', 'RATED\\n  A beautiful place to ...</td>\n",
       "      <td>[]</td>\n",
       "      <td>Buffet</td>\n",
       "      <td>Banashankari</td>\n",
       "    </tr>\n",
       "    <tr>\n",
       "      <th>1</th>\n",
       "      <td>1</td>\n",
       "      <td>Spice Elephant</td>\n",
       "      <td>Yes</td>\n",
       "      <td>No</td>\n",
       "      <td>4.1</td>\n",
       "      <td>787</td>\n",
       "      <td>Banashankari</td>\n",
       "      <td>Casual Dining</td>\n",
       "      <td>Momos, Lunch Buffet, Chocolate Nirvana, Thai G...</td>\n",
       "      <td>Chinese, North Indian, Thai</td>\n",
       "      <td>800</td>\n",
       "      <td>[('Rated 4.0', 'RATED\\n  Had been here for din...</td>\n",
       "      <td>[]</td>\n",
       "      <td>Buffet</td>\n",
       "      <td>Banashankari</td>\n",
       "    </tr>\n",
       "    <tr>\n",
       "      <th>2</th>\n",
       "      <td>2</td>\n",
       "      <td>San Churro Cafe</td>\n",
       "      <td>Yes</td>\n",
       "      <td>No</td>\n",
       "      <td>3.8</td>\n",
       "      <td>918</td>\n",
       "      <td>Banashankari</td>\n",
       "      <td>Cafe, Casual Dining</td>\n",
       "      <td>Churros, Cannelloni, Minestrone Soup, Hot Choc...</td>\n",
       "      <td>Cafe, Mexican, Italian</td>\n",
       "      <td>800</td>\n",
       "      <td>[('Rated 3.0', \"RATED\\n  Ambience is not that ...</td>\n",
       "      <td>[]</td>\n",
       "      <td>Buffet</td>\n",
       "      <td>Banashankari</td>\n",
       "    </tr>\n",
       "  </tbody>\n",
       "</table>\n",
       "</div>"
      ],
      "text/plain": [
       "   index             name online_order book_table  rate  votes      location  \\\n",
       "0      0            Jalsa          Yes        Yes   4.1    775  Banashankari   \n",
       "1      1   Spice Elephant          Yes         No   4.1    787  Banashankari   \n",
       "2      2  San Churro Cafe          Yes         No   3.8    918  Banashankari   \n",
       "\n",
       "             rest_type                                         dish_liked  \\\n",
       "0        Casual Dining  Pasta, Lunch Buffet, Masala Papad, Paneer Laja...   \n",
       "1        Casual Dining  Momos, Lunch Buffet, Chocolate Nirvana, Thai G...   \n",
       "2  Cafe, Casual Dining  Churros, Cannelloni, Minestrone Soup, Hot Choc...   \n",
       "\n",
       "                         cuisines approx_cost(for two people)  \\\n",
       "0  North Indian, Mughlai, Chinese                         800   \n",
       "1     Chinese, North Indian, Thai                         800   \n",
       "2          Cafe, Mexican, Italian                         800   \n",
       "\n",
       "                                        reviews_list menu_item  \\\n",
       "0  [('Rated 4.0', 'RATED\\n  A beautiful place to ...        []   \n",
       "1  [('Rated 4.0', 'RATED\\n  Had been here for din...        []   \n",
       "2  [('Rated 3.0', \"RATED\\n  Ambience is not that ...        []   \n",
       "\n",
       "  listed_in(type) listed_in(city)  \n",
       "0          Buffet    Banashankari  \n",
       "1          Buffet    Banashankari  \n",
       "2          Buffet    Banashankari  "
      ]
     },
     "execution_count": 20,
     "metadata": {},
     "output_type": "execute_result"
    }
   ],
   "source": [
    "\n",
    "df.dropna(subset=[\"location\",\"rest_type\",\"cuisines\",\"approx_cost(for two people)\"],axis=0,inplace=True)\n",
    "df.reset_index(inplace=True)\n",
    "df.head(3)"
   ]
  },
  {
   "cell_type": "code",
   "execution_count": 21,
   "id": "9ba35e33",
   "metadata": {},
   "outputs": [
    {
     "data": {
      "text/plain": [
       "index                              0\n",
       "name                               0\n",
       "online_order                       0\n",
       "book_table                         0\n",
       "rate                            9885\n",
       "votes                              0\n",
       "location                           0\n",
       "rest_type                          0\n",
       "dish_liked                     27713\n",
       "cuisines                           0\n",
       "approx_cost(for two people)        0\n",
       "reviews_list                       0\n",
       "menu_item                          0\n",
       "listed_in(type)                    0\n",
       "listed_in(city)                    0\n",
       "dtype: int64"
      ]
     },
     "execution_count": 21,
     "metadata": {},
     "output_type": "execute_result"
    }
   ],
   "source": [
    "df.isnull().sum()"
   ]
  },
  {
   "cell_type": "markdown",
   "id": "c791afdf",
   "metadata": {},
   "source": [
    "##### We still have null values in colmn crspndng to rate and dishliked  but since they are large in no if we drop them we loose large portion of data"
   ]
  },
  {
   "cell_type": "code",
   "execution_count": 22,
   "id": "be25514b",
   "metadata": {},
   "outputs": [],
   "source": [
    "#Filling null values by imputation  method"
   ]
  },
  {
   "cell_type": "code",
   "execution_count": 23,
   "id": "8c693137",
   "metadata": {},
   "outputs": [],
   "source": [
    "# filling missing values in rate with mean\n",
    "df[\"rate\"]=df[\"rate\"].fillna(round(df[\"rate\"].mean(),1))"
   ]
  },
  {
   "cell_type": "code",
   "execution_count": 24,
   "id": "7517656b",
   "metadata": {},
   "outputs": [],
   "source": [
    "# dish_liked is object type lets fill it with unknown\n",
    "df[\"dish_liked\"]=df[\"dish_liked\"].fillna(\"unknown\")"
   ]
  },
  {
   "cell_type": "code",
   "execution_count": 25,
   "id": "4716f2ab",
   "metadata": {},
   "outputs": [
    {
     "data": {
      "text/plain": [
       "index                          0\n",
       "name                           0\n",
       "online_order                   0\n",
       "book_table                     0\n",
       "rate                           0\n",
       "votes                          0\n",
       "location                       0\n",
       "rest_type                      0\n",
       "dish_liked                     0\n",
       "cuisines                       0\n",
       "approx_cost(for two people)    0\n",
       "reviews_list                   0\n",
       "menu_item                      0\n",
       "listed_in(type)                0\n",
       "listed_in(city)                0\n",
       "dtype: int64"
      ]
     },
     "execution_count": 25,
     "metadata": {},
     "output_type": "execute_result"
    }
   ],
   "source": [
    "df.isnull().sum()"
   ]
  },
  {
   "cell_type": "markdown",
   "id": "e5fac19b",
   "metadata": {},
   "source": [
    "##### No more missing values to deal with"
   ]
  },
  {
   "cell_type": "code",
   "execution_count": 26,
   "id": "f4874279",
   "metadata": {},
   "outputs": [
    {
     "name": "stdout",
     "output_type": "stream",
     "text": [
      "<class 'pandas.core.frame.DataFrame'>\n",
      "RangeIndex: 51148 entries, 0 to 51147\n",
      "Data columns (total 15 columns):\n",
      " #   Column                       Non-Null Count  Dtype  \n",
      "---  ------                       --------------  -----  \n",
      " 0   index                        51148 non-null  int64  \n",
      " 1   name                         51148 non-null  object \n",
      " 2   online_order                 51148 non-null  object \n",
      " 3   book_table                   51148 non-null  object \n",
      " 4   rate                         51148 non-null  float64\n",
      " 5   votes                        51148 non-null  int64  \n",
      " 6   location                     51148 non-null  object \n",
      " 7   rest_type                    51148 non-null  object \n",
      " 8   dish_liked                   51148 non-null  object \n",
      " 9   cuisines                     51148 non-null  object \n",
      " 10  approx_cost(for two people)  51148 non-null  object \n",
      " 11  reviews_list                 51148 non-null  object \n",
      " 12  menu_item                    51148 non-null  object \n",
      " 13  listed_in(type)              51148 non-null  object \n",
      " 14  listed_in(city)              51148 non-null  object \n",
      "dtypes: float64(1), int64(2), object(12)\n",
      "memory usage: 5.9+ MB\n"
     ]
    }
   ],
   "source": [
    "df.info()"
   ]
  },
  {
   "cell_type": "code",
   "execution_count": 27,
   "id": "7fc014fb",
   "metadata": {},
   "outputs": [
    {
     "data": {
      "text/plain": [
       "0          800\n",
       "1          800\n",
       "2          800\n",
       "3          300\n",
       "4          600\n",
       "         ...  \n",
       "51143    1,500\n",
       "51144      600\n",
       "51145    2,000\n",
       "51146    2,500\n",
       "51147    1,500\n",
       "Name: approx_cost(for two people), Length: 51148, dtype: object"
      ]
     },
     "execution_count": 27,
     "metadata": {},
     "output_type": "execute_result"
    }
   ],
   "source": [
    "#aprox cost is in object type lets convert it into float\n",
    "df[\"approx_cost(for two people)\"]"
   ]
  },
  {
   "cell_type": "code",
   "execution_count": 29,
   "id": "ceba76a1",
   "metadata": {},
   "outputs": [],
   "source": [
    "#we have , in most of the values so iof we dirctly try to convert it into float it throws error \n",
    "#so first letus get rid of , using replace fnctn\n",
    "df[\"approx_cost(for two people)\"]=df[\"approx_cost(for two people)\"].apply(lambda x:x.replace(\",\",\"\"))\n",
    "df[\"approx_cost(for two people)\"]=df[\"approx_cost(for two people)\"].astype(float)"
   ]
  },
  {
   "cell_type": "code",
   "execution_count": 30,
   "id": "55411394",
   "metadata": {},
   "outputs": [
    {
     "data": {
      "text/plain": [
       "0         800.0\n",
       "1         800.0\n",
       "2         800.0\n",
       "3         300.0\n",
       "4         600.0\n",
       "          ...  \n",
       "51143    1500.0\n",
       "51144     600.0\n",
       "51145    2000.0\n",
       "51146    2500.0\n",
       "51147    1500.0\n",
       "Name: approx_cost(for two people), Length: 51148, dtype: float64"
      ]
     },
     "execution_count": 30,
     "metadata": {},
     "output_type": "execute_result"
    }
   ],
   "source": [
    "df[\"approx_cost(for two people)\"]"
   ]
  },
  {
   "cell_type": "code",
   "execution_count": 31,
   "id": "5bf60191",
   "metadata": {},
   "outputs": [],
   "source": [
    "# Online_order and book_table are of  mixed case converting them, to all lower"
   ]
  },
  {
   "cell_type": "code",
   "execution_count": 32,
   "id": "7beb7574",
   "metadata": {
    "scrolled": true
   },
   "outputs": [],
   "source": [
    "df['online_order']=df[\"online_order\"].apply(lambda x : x.lower())\n",
    "df['book_table']=df[\"book_table\"].apply(lambda x : x.lower())"
   ]
  },
  {
   "cell_type": "code",
   "execution_count": 33,
   "id": "f08f62f6",
   "metadata": {},
   "outputs": [
    {
     "data": {
      "text/html": [
       "<div>\n",
       "<style scoped>\n",
       "    .dataframe tbody tr th:only-of-type {\n",
       "        vertical-align: middle;\n",
       "    }\n",
       "\n",
       "    .dataframe tbody tr th {\n",
       "        vertical-align: top;\n",
       "    }\n",
       "\n",
       "    .dataframe thead th {\n",
       "        text-align: right;\n",
       "    }\n",
       "</style>\n",
       "<table border=\"1\" class=\"dataframe\">\n",
       "  <thead>\n",
       "    <tr style=\"text-align: right;\">\n",
       "      <th></th>\n",
       "      <th>index</th>\n",
       "      <th>name</th>\n",
       "      <th>online_order</th>\n",
       "      <th>book_table</th>\n",
       "      <th>rate</th>\n",
       "      <th>votes</th>\n",
       "      <th>location</th>\n",
       "      <th>rest_type</th>\n",
       "      <th>dish_liked</th>\n",
       "      <th>cuisines</th>\n",
       "      <th>approx_cost(for two people)</th>\n",
       "      <th>reviews_list</th>\n",
       "      <th>menu_item</th>\n",
       "      <th>listed_in(type)</th>\n",
       "      <th>listed_in(city)</th>\n",
       "    </tr>\n",
       "  </thead>\n",
       "  <tbody>\n",
       "    <tr>\n",
       "      <th>0</th>\n",
       "      <td>0</td>\n",
       "      <td>Jalsa</td>\n",
       "      <td>yes</td>\n",
       "      <td>yes</td>\n",
       "      <td>4.1</td>\n",
       "      <td>775</td>\n",
       "      <td>Banashankari</td>\n",
       "      <td>Casual Dining</td>\n",
       "      <td>Pasta, Lunch Buffet, Masala Papad, Paneer Laja...</td>\n",
       "      <td>North Indian, Mughlai, Chinese</td>\n",
       "      <td>800.0</td>\n",
       "      <td>[('Rated 4.0', 'RATED\\n  A beautiful place to ...</td>\n",
       "      <td>[]</td>\n",
       "      <td>Buffet</td>\n",
       "      <td>Banashankari</td>\n",
       "    </tr>\n",
       "    <tr>\n",
       "      <th>1</th>\n",
       "      <td>1</td>\n",
       "      <td>Spice Elephant</td>\n",
       "      <td>yes</td>\n",
       "      <td>no</td>\n",
       "      <td>4.1</td>\n",
       "      <td>787</td>\n",
       "      <td>Banashankari</td>\n",
       "      <td>Casual Dining</td>\n",
       "      <td>Momos, Lunch Buffet, Chocolate Nirvana, Thai G...</td>\n",
       "      <td>Chinese, North Indian, Thai</td>\n",
       "      <td>800.0</td>\n",
       "      <td>[('Rated 4.0', 'RATED\\n  Had been here for din...</td>\n",
       "      <td>[]</td>\n",
       "      <td>Buffet</td>\n",
       "      <td>Banashankari</td>\n",
       "    </tr>\n",
       "    <tr>\n",
       "      <th>2</th>\n",
       "      <td>2</td>\n",
       "      <td>San Churro Cafe</td>\n",
       "      <td>yes</td>\n",
       "      <td>no</td>\n",
       "      <td>3.8</td>\n",
       "      <td>918</td>\n",
       "      <td>Banashankari</td>\n",
       "      <td>Cafe, Casual Dining</td>\n",
       "      <td>Churros, Cannelloni, Minestrone Soup, Hot Choc...</td>\n",
       "      <td>Cafe, Mexican, Italian</td>\n",
       "      <td>800.0</td>\n",
       "      <td>[('Rated 3.0', \"RATED\\n  Ambience is not that ...</td>\n",
       "      <td>[]</td>\n",
       "      <td>Buffet</td>\n",
       "      <td>Banashankari</td>\n",
       "    </tr>\n",
       "  </tbody>\n",
       "</table>\n",
       "</div>"
      ],
      "text/plain": [
       "   index             name online_order book_table  rate  votes      location  \\\n",
       "0      0            Jalsa          yes        yes   4.1    775  Banashankari   \n",
       "1      1   Spice Elephant          yes         no   4.1    787  Banashankari   \n",
       "2      2  San Churro Cafe          yes         no   3.8    918  Banashankari   \n",
       "\n",
       "             rest_type                                         dish_liked  \\\n",
       "0        Casual Dining  Pasta, Lunch Buffet, Masala Papad, Paneer Laja...   \n",
       "1        Casual Dining  Momos, Lunch Buffet, Chocolate Nirvana, Thai G...   \n",
       "2  Cafe, Casual Dining  Churros, Cannelloni, Minestrone Soup, Hot Choc...   \n",
       "\n",
       "                         cuisines  approx_cost(for two people)  \\\n",
       "0  North Indian, Mughlai, Chinese                        800.0   \n",
       "1     Chinese, North Indian, Thai                        800.0   \n",
       "2          Cafe, Mexican, Italian                        800.0   \n",
       "\n",
       "                                        reviews_list menu_item  \\\n",
       "0  [('Rated 4.0', 'RATED\\n  A beautiful place to ...        []   \n",
       "1  [('Rated 4.0', 'RATED\\n  Had been here for din...        []   \n",
       "2  [('Rated 3.0', \"RATED\\n  Ambience is not that ...        []   \n",
       "\n",
       "  listed_in(type) listed_in(city)  \n",
       "0          Buffet    Banashankari  \n",
       "1          Buffet    Banashankari  \n",
       "2          Buffet    Banashankari  "
      ]
     },
     "execution_count": 33,
     "metadata": {},
     "output_type": "execute_result"
    }
   ],
   "source": [
    "df.head(3)"
   ]
  },
  {
   "cell_type": "markdown",
   "id": "76a90ac6",
   "metadata": {},
   "source": [
    "### Cleaning dish_liked"
   ]
  },
  {
   "cell_type": "code",
   "execution_count": 34,
   "id": "0bbf7ee1",
   "metadata": {},
   "outputs": [
    {
     "data": {
      "text/plain": [
       "'Pasta, Lunch Buffet, Masala Papad, Paneer Lajawab, Tomato Shorba, Dum Biryani, Sweet Corn Soup'"
      ]
     },
     "execution_count": 34,
     "metadata": {},
     "output_type": "execute_result"
    }
   ],
   "source": [
    "df[\"dish_liked\"][0]\n"
   ]
  },
  {
   "cell_type": "code",
   "execution_count": 35,
   "id": "77bb9589",
   "metadata": {},
   "outputs": [],
   "source": [
    "def clean(dish):\n",
    "    splt=dish.split(\",\")\n",
    "    \n",
    "    for i in range(len(splt)):\n",
    "        new_splt=splt[i].split()\n",
    "        \n",
    "        if len(new_splt)>1:\n",
    "            \n",
    "            splt[i]=\"_\".join(new_splt)\n",
    "            \n",
    "    dish=\"\".join(splt).lower()\n",
    "    return dish\n"
   ]
  },
  {
   "cell_type": "code",
   "execution_count": 36,
   "id": "6507112e",
   "metadata": {},
   "outputs": [],
   "source": [
    "df[\"dish_liked\"]=df[\"dish_liked\"].apply(lambda x: clean(x))"
   ]
  },
  {
   "cell_type": "code",
   "execution_count": 37,
   "id": "0de49b3a",
   "metadata": {},
   "outputs": [
    {
     "data": {
      "text/plain": [
       "'pastalunch_buffetmasala_papadpaneer_lajawabtomato_shorbadum_biryanisweet_corn_soup'"
      ]
     },
     "execution_count": 37,
     "metadata": {},
     "output_type": "execute_result"
    }
   ],
   "source": [
    "df[\"dish_liked\"][0]"
   ]
  },
  {
   "cell_type": "markdown",
   "id": "fb9859b5",
   "metadata": {},
   "source": [
    "### Cuisines liked"
   ]
  },
  {
   "cell_type": "code",
   "execution_count": 38,
   "id": "8cd336a7",
   "metadata": {},
   "outputs": [],
   "source": [
    "df[\"cuisines\"]=df[\"cuisines\"].apply(lambda x: clean(x))"
   ]
  },
  {
   "cell_type": "code",
   "execution_count": 39,
   "id": "ba59615f",
   "metadata": {},
   "outputs": [
    {
     "data": {
      "text/plain": [
       "'north_indian mughlai chinese'"
      ]
     },
     "execution_count": 39,
     "metadata": {},
     "output_type": "execute_result"
    }
   ],
   "source": [
    "df[\"cuisines\"][0]"
   ]
  },
  {
   "cell_type": "markdown",
   "id": "fe29258c",
   "metadata": {},
   "source": [
    "#### Rest type"
   ]
  },
  {
   "cell_type": "code",
   "execution_count": 40,
   "id": "10130d71",
   "metadata": {},
   "outputs": [
    {
     "data": {
      "text/plain": [
       "'Casual Dining'"
      ]
     },
     "execution_count": 40,
     "metadata": {},
     "output_type": "execute_result"
    }
   ],
   "source": [
    "df[\"rest_type\"][0]"
   ]
  },
  {
   "cell_type": "code",
   "execution_count": 41,
   "id": "ef06c718",
   "metadata": {},
   "outputs": [
    {
     "data": {
      "text/plain": [
       "'casual_dining'"
      ]
     },
     "execution_count": 41,
     "metadata": {},
     "output_type": "execute_result"
    }
   ],
   "source": [
    "df[\"rest_type\"]=df[\"rest_type\"].apply(lambda x: clean(x))\n",
    "df[\"rest_type\"][0]"
   ]
  },
  {
   "cell_type": "markdown",
   "id": "025e90cc",
   "metadata": {},
   "source": [
    "### Text data cleaning"
   ]
  },
  {
   "cell_type": "code",
   "execution_count": 42,
   "id": "b5dd7d2e",
   "metadata": {},
   "outputs": [],
   "source": [
    "def decontracted(phrase):\n",
    "    \"\"\"This function will converts shorthend form to full form of english words\"\"\"\n",
    "    # specific\n",
    "    phrase = re.sub(r\"won't\", \"will not\", phrase)\n",
    "    phrase = re.sub(r\"can\\'t\", \"can not\", phrase)\n",
    "\n",
    "    # general\n",
    "    phrase = re.sub(r\"n\\'t\", \" not\", phrase)\n",
    "    phrase = re.sub(r\"\\'re\", \" are\", phrase)\n",
    "    phrase = re.sub(r\"\\'s\", \" is\", phrase)\n",
    "    phrase = re.sub(r\"\\'d\", \" would\", phrase)\n",
    "    phrase = re.sub(r\"\\'ll\", \" will\", phrase)\n",
    "    phrase = re.sub(r\"\\'t\", \" not\", phrase)\n",
    "    phrase = re.sub(r\"\\'ve\", \" have\", phrase)\n",
    "    phrase = re.sub(r\"\\'m\", \" am\", phrase)\n",
    "    return phrase"
   ]
  },
  {
   "cell_type": "code",
   "execution_count": 43,
   "id": "d14af82e",
   "metadata": {},
   "outputs": [],
   "source": [
    "from tqdm import tqdm\n",
    "def preprocess_text(text_data):\n",
    "    \"\"\"This function will clean the text data\"\"\"\n",
    "    preprocessed_text = []\n",
    "    # tqdm is for printing the status bar\n",
    "    for sentance in tqdm(text_data):\n",
    "        sent = decontracted(sentance)\n",
    "        sent = sent.replace('\\\\r', ' ')\n",
    "        sent = sent.replace('NaN', ' ')\n",
    "        sent = sent.replace('\\\\n', ' ')\n",
    "        sent = sent.replace('\\\\\"',  ' ')\n",
    "        sent = re.sub(r'[0-9]+',  ' ',sent)\n",
    "        sent = re.sub('[^A-Za-z0-9]+', ' ', sent)\n",
    "        sent = sent.replace('RATED',' ')\n",
    "        sent = sent.replace('Rated',' ')\n",
    "        sent= re.sub(' \\w{1,2} ', ' ', sent)                \n",
    "        sent=' '.join([w for w in sent.split() if len(w)>=3])\n",
    "        sent = ' '.join(e for e in sent.split() if e.lower() not in stopwords)\n",
    "        preprocessed_text.append(sent.lower().strip())\n",
    "        # https://gist.github.com/sebleier/554280\n",
    "        \n",
    "    return preprocessed_text"
   ]
  },
  {
   "cell_type": "code",
   "execution_count": 44,
   "id": "b46e3952",
   "metadata": {},
   "outputs": [],
   "source": [
    "# https://gist.github.com/sebleier/554280\n",
    "# we are removing the words from the stop words list: 'no', 'nor', 'not' because these words represents negative emotions\n",
    "stopwords= ['i', 'me', 'my', 'myself', 'we', 'our', 'ours', 'ourselves', 'you', \"you're\", \"you've\",\\\n",
    "            \"you'll\", \"you'd\", 'your', 'yours', 'yourself', 'yourselves', 'he', 'him', 'his', 'himself', \\\n",
    "            'she', \"she's\", 'her', 'hers', 'herself', 'it', \"it's\", 'its', 'itself', 'they', 'them', 'their',\\\n",
    "            'theirs', 'themselves', 'what', 'which', 'who', 'whom', 'this', 'that', \"that'll\", 'these', 'those', \\\n",
    "            'am', 'is', 'are', 'was', 'were', 'be', 'been', 'being', 'have', 'has', 'had', 'having', 'do', 'does', \\\n",
    "            'did', 'doing', 'a', 'an', 'the', 'and', 'but', 'if', 'or', 'because', 'as', 'until', 'while', 'of', \\\n",
    "            'at', 'by', 'for', 'with', 'about', 'against', 'between', 'into', 'through', 'during', 'before', 'after',\\\n",
    "            'above', 'below', 'to', 'from', 'up', 'down', 'in', 'out', 'on', 'off', 'over', 'under', 'again', 'further',\\\n",
    "            'then', 'once', 'here', 'there', 'when', 'where', 'why', 'how', 'all', 'any', 'both', 'each', 'few', 'more',\\\n",
    "            'most', 'other', 'some', 'such', 'only', 'own', 'same', 'so', 'than', 'too', 'very', \\\n",
    "            's', 't', 'can', 'will', 'just', 'don', \"don't\", 'should', \"should've\", 'now', 'd', 'll', 'm', 'o', 're', \\\n",
    "            've', 'y', 'ain', 'aren', \"aren't\", 'couldn', \"couldn't\", 'didn', \"didn't\", 'doesn', \"doesn't\", 'hadn',\\\n",
    "            \"hadn't\", 'hasn', \"hasn't\", 'haven', \"haven't\", 'isn', \"isn't\", 'ma', 'mightn', \"mightn't\", 'mustn',\\\n",
    "            \"mustn't\", 'needn', \"needn't\", 'shan', \"shan't\", 'shouldn', \"shouldn't\", 'wasn', \"wasn't\", 'weren', \"weren't\", \\\n",
    "            'won', \"won't\", 'wouldn', \"wouldn't\",\"NaN\",]"
   ]
  },
  {
   "cell_type": "code",
   "execution_count": 45,
   "id": "5c3812d0",
   "metadata": {},
   "outputs": [
    {
     "name": "stderr",
     "output_type": "stream",
     "text": [
      "100%|███████████████████████████████████████████████████████████████████████████| 51148/51148 [02:44<00:00, 310.34it/s]\n"
     ]
    }
   ],
   "source": [
    "df['reviews_list'] = preprocess_text(df['reviews_list'].values)"
   ]
  },
  {
   "cell_type": "code",
   "execution_count": 46,
   "id": "003a1f39",
   "metadata": {},
   "outputs": [
    {
     "data": {
      "text/plain": [
       "'beautiful place dine interiors take back mughal era lightings perfect went occasion christmas limited items available taste service not compromised complaint breads could better would surely like come dinner family weekday restaurant completely empty ambience good good old hindi music seating arrangement good ordered masala papad panner baby corn starters lemon corrionder soup butter roti olive chilli paratha food fresh good service good good family hangout cheers restaurant near banashankari bda along office friends visited buffet unfortunately provide veg buffet inquiring said place mostly visited vegetarians anyways ordered ala carte items took ages come food definitely not visiting anymore went weekend one buffet two took ala carte firstly ambience service place great buffet lot items good good pumpkin halwa intm dessert amazing must try kulchas great cheers best thing place ambiance second best thing yummy food try buffet buffet food not disappointed test quality service staff professional friendly overall experience excellent subirmajumder wixsite com great food pleasant ambience expensive coll place chill relax service really good friendly staff food service ambience overall good ambience tasty food cheese chilli paratha bhutta palak methi curry good combo lemon chicken starters must try item egg fried rice also quite tasty mocktails recommend alice junoon not miss wrong jalsa never fan buffet thus always order alacarte service times slower side food worth wait overdelighted service food provided place royal ethnic atmosphere builds strong essence india also quality taste food truly authentic would totally recommend visit place place nice comfortable food wise jalea outlets maintain good standard soya chaap standout dish clearly one trademark dish per must try concern parking congested limited cars basement parking steep makes cumbersome place nice comfortable food wise jalea outlets maintain good standard soya chaap standout dish clearly one trademark dish per must try concern parking congested limited cars basement parking steep makes cumbersome place nice comfortable food wise jalea outlets maintain good standard soya chaap standout dish clearly one trademark dish per must try concern parking congested limited cars basement parking steep makes cumbersome'"
      ]
     },
     "execution_count": 46,
     "metadata": {},
     "output_type": "execute_result"
    }
   ],
   "source": [
    "df['reviews_list'][0]"
   ]
  },
  {
   "cell_type": "code",
   "execution_count": 49,
   "id": "adef26cf",
   "metadata": {},
   "outputs": [
    {
     "data": {
      "text/plain": [
       "7503"
      ]
     },
     "execution_count": 49,
     "metadata": {},
     "output_type": "execute_result"
    }
   ],
   "source": [
    "np.count_nonzero(df['reviews_list']==\"\")"
   ]
  },
  {
   "cell_type": "code",
   "execution_count": 48,
   "id": "d4f12f9a",
   "metadata": {},
   "outputs": [],
   "source": [
    "#we need to replace these values "
   ]
  },
  {
   "cell_type": "code",
   "execution_count": 50,
   "id": "4499549f",
   "metadata": {},
   "outputs": [],
   "source": [
    "for i in range(len(df['reviews_list'])):\n",
    "    if df['reviews_list'][i]==\"\":\n",
    "        df['reviews_list']=\"no_reviews\"\n",
    "        "
   ]
  },
  {
   "cell_type": "code",
   "execution_count": 51,
   "id": "c92a9a73",
   "metadata": {},
   "outputs": [
    {
     "data": {
      "text/plain": [
       "0"
      ]
     },
     "execution_count": 51,
     "metadata": {},
     "output_type": "execute_result"
    }
   ],
   "source": [
    "np.count_nonzero(df['reviews_list']==\"\")"
   ]
  },
  {
   "cell_type": "markdown",
   "id": "99fe0f4e",
   "metadata": {},
   "source": [
    "#### Cleaning location"
   ]
  },
  {
   "cell_type": "code",
   "execution_count": 52,
   "id": "3704375a",
   "metadata": {},
   "outputs": [
    {
     "data": {
      "text/plain": [
       "'Koramangala 5th Block'"
      ]
     },
     "execution_count": 52,
     "metadata": {},
     "output_type": "execute_result"
    }
   ],
   "source": [
    "df['location'][10000]"
   ]
  },
  {
   "cell_type": "code",
   "execution_count": 53,
   "id": "1ba0b1c6",
   "metadata": {},
   "outputs": [],
   "source": [
    "df['location']=df['location'].apply(lambda x : clean(x))"
   ]
  },
  {
   "cell_type": "code",
   "execution_count": 54,
   "id": "ff386742",
   "metadata": {},
   "outputs": [
    {
     "data": {
      "text/plain": [
       "'koramangala_5th_block'"
      ]
     },
     "execution_count": 54,
     "metadata": {},
     "output_type": "execute_result"
    }
   ],
   "source": [
    "df['location'][10000]"
   ]
  },
  {
   "cell_type": "markdown",
   "id": "2febfb53",
   "metadata": {},
   "source": [
    "#### Cleaning names"
   ]
  },
  {
   "cell_type": "code",
   "execution_count": 55,
   "id": "9fedb8dc",
   "metadata": {},
   "outputs": [
    {
     "data": {
      "text/plain": [
       "'CafÃ\\x83Â\\x83Ã\\x82Â\\x83Ã\\x83Â\\x82Ã\\x82Â\\x83Ã\\x83Â\\x83Ã\\x82Â\\x82Ã\\x83Â\\x82Ã\\x82Â© Down The Alley'"
      ]
     },
     "execution_count": 55,
     "metadata": {},
     "output_type": "execute_result"
    }
   ],
   "source": [
    "df['name'][10]"
   ]
  },
  {
   "cell_type": "code",
   "execution_count": 56,
   "id": "8aa58383",
   "metadata": {},
   "outputs": [
    {
     "name": "stderr",
     "output_type": "stream",
     "text": [
      "100%|█████████████████████████████████████████████████████████████████████████| 51148/51148 [00:01<00:00, 41651.64it/s]\n"
     ]
    }
   ],
   "source": [
    "df['name']=preprocess_text(df['name'].values)"
   ]
  },
  {
   "cell_type": "code",
   "execution_count": 57,
   "id": "83c711da",
   "metadata": {},
   "outputs": [
    {
     "data": {
      "text/plain": [
       "'caf alley'"
      ]
     },
     "execution_count": 57,
     "metadata": {},
     "output_type": "execute_result"
    }
   ],
   "source": [
    "df['name'][10]"
   ]
  },
  {
   "cell_type": "markdown",
   "id": "bda0e831",
   "metadata": {},
   "source": [
    "### Cleanin  listed_in(type)"
   ]
  },
  {
   "cell_type": "code",
   "execution_count": 58,
   "id": "9ec05c1e",
   "metadata": {},
   "outputs": [
    {
     "data": {
      "text/plain": [
       "Index(['index', 'name', 'online_order', 'book_table', 'rate', 'votes',\n",
       "       'location', 'rest_type', 'dish_liked', 'cuisines',\n",
       "       'approx_cost(for two people)', 'reviews_list', 'menu_item',\n",
       "       'listed_in(type)', 'listed_in(city)'],\n",
       "      dtype='object')"
      ]
     },
     "execution_count": 58,
     "metadata": {},
     "output_type": "execute_result"
    }
   ],
   "source": [
    "df.columns"
   ]
  },
  {
   "cell_type": "code",
   "execution_count": 59,
   "id": "40fd7409",
   "metadata": {},
   "outputs": [
    {
     "data": {
      "text/plain": [
       "'Cafes'"
      ]
     },
     "execution_count": 59,
     "metadata": {},
     "output_type": "execute_result"
    }
   ],
   "source": [
    "df['listed_in(type)'][10]"
   ]
  },
  {
   "cell_type": "code",
   "execution_count": 60,
   "id": "26570a16",
   "metadata": {},
   "outputs": [
    {
     "data": {
      "text/plain": [
       "'cafes'"
      ]
     },
     "execution_count": 60,
     "metadata": {},
     "output_type": "execute_result"
    }
   ],
   "source": [
    "df['listed_in(type)']=df['listed_in(type)'].apply(lambda x: clean(x))\n",
    "df['listed_in(type)'][10]"
   ]
  },
  {
   "cell_type": "markdown",
   "id": "1ffecd27",
   "metadata": {},
   "source": [
    "#### cleaning listed_in(city)"
   ]
  },
  {
   "cell_type": "code",
   "execution_count": 61,
   "id": "4b6c1f29",
   "metadata": {},
   "outputs": [
    {
     "data": {
      "text/plain": [
       "'Banashankari'"
      ]
     },
     "execution_count": 61,
     "metadata": {},
     "output_type": "execute_result"
    }
   ],
   "source": [
    "df['listed_in(city)'][10]"
   ]
  },
  {
   "cell_type": "code",
   "execution_count": 62,
   "id": "1a311874",
   "metadata": {},
   "outputs": [],
   "source": [
    "df['listed_in(city)']=df['listed_in(city)'].apply(lambda x : clean(x))"
   ]
  },
  {
   "cell_type": "code",
   "execution_count": 63,
   "id": "8538b6f8",
   "metadata": {},
   "outputs": [
    {
     "data": {
      "text/plain": [
       "'banashankari'"
      ]
     },
     "execution_count": 63,
     "metadata": {},
     "output_type": "execute_result"
    }
   ],
   "source": [
    "df['listed_in(city)'][10]"
   ]
  },
  {
   "cell_type": "code",
   "execution_count": 64,
   "id": "9e7cbb88",
   "metadata": {},
   "outputs": [],
   "source": [
    "def cleaning(menu):\n",
    "    menu=menu.replace(\"[\",\"\").replace(\"]\",\"\")  #to remove [ & ]\n",
    "    \n",
    "    menu=re.sub(\"[0-9]+\",\"\",menu) #To clean numbers\n",
    "    \n",
    "    menu=menu.replace(\"'\",\"\")\n",
    "    \n",
    "    m=menu.split(',')\n",
    "    \n",
    "    for i in range(len(m)):\n",
    "        n=m[i].split()\n",
    "        if len(n)>1:\n",
    "            m[i]=\"_\".join(n)\n",
    "    menu=\"\".join (m).lower()\n",
    "    return menu\n"
   ]
  },
  {
   "cell_type": "code",
   "execution_count": 65,
   "id": "b0452504",
   "metadata": {},
   "outputs": [
    {
     "data": {
      "text/plain": [
       "\"['Chocolate Fuge', 'Oreo Fudge', 'Litchee Lake', 'Strawberry Melba', 'House Full', 'Veg Rolls', 'Baby Corn Rolls', 'Topped Nachos', 'Cheese Nachos', 'Cherry Berry', 'Gudbud', 'Litchee Lake', 'Strawberry Melba', 'House Full', 'Candy Land', 'Magical Land', 'Jelly Blast', 'Chocolate Fuge', 'Almond Fudge', 'Walnut Honey Bunny', 'Cake Fudge', 'Cashew Fudge', 'Caramel Crackle Fudge', 'Chocolate Mudside', 'Oreo Fudge', 'Willy Wonka', 'Ferrero Rocher', 'Brownie Fudge', 'Walnut Brownie Fudge', 'Going Nuts', 'Death By Chocolate', 'Devils Own', 'Fudge Tub', 'Pineapple Cream Sundae', 'Black Forest Cream Sundae', 'Tiramisu', 'Strawberry Cream Sundae', 'Mango Cream Sundae', 'Voltage Sundae', 'Litche Sundae', 'OMG Sundae', 'Royal Sundae', 'Strawberry Milkshake', 'Chocolate Milkshake', 'Oreo Milkshake', 'Mango Milkshake', 'Frappe Cold Coffee Milkshake', 'Pista Milkshake', 'Black Current Milkshake', 'Muddy Milkshake']\""
      ]
     },
     "execution_count": 65,
     "metadata": {},
     "output_type": "execute_result"
    }
   ],
   "source": [
    "df['menu_item'][20000]"
   ]
  },
  {
   "cell_type": "code",
   "execution_count": 66,
   "id": "054610e7",
   "metadata": {},
   "outputs": [
    {
     "data": {
      "text/plain": [
       "\"['Combo 2', 'Combo 3', 'Combo 1', 'Combo 4', 'Crispy Chilly Baby Corn', 'American Corn And Salt And Pepper', 'Chilly Babycorn', 'Mushroom Pepper', 'Pepper Chicken', 'Chilli Chicken', 'Salt Pepper Fish', 'Fried Wontons-veg', 'Crispy Chilli Potato', 'Szechuan Paneer', 'Gobi Manchurian', 'Spring Rolls-non Veg', 'Thai Red Wings', 'Thai Basil Chicken', 'Drums Of Heaven', 'Dragon Chicken', 'Sweet And Spicy Crispy Chicken', 'Lemon Basil Chicken', 'Thai Fried Chicken', 'Fried Chicken Wings', 'Chicken Lollypop', 'Chicken Meat Ball', 'Szechuan Chicken', 'Pan Fry Chilly Fish', 'Szechuan Prawn', 'Crispy Fish In Sweet Chilli Sauce And Basil', 'Chinese Veal', 'Spicy Lemon Corriander Soup(veg)', 'Lemon Pepper Soup(non Veg)', 'Spicy Lemon Corriander Soup(non Veg)', 'Clear Soup(veg)', 'Noodles Soup(veg)', 'Lemon Pepper Soup(veg)', 'Sweetcorn Soup(veg)', 'Manchow Soup(veg)', 'Hot & Sour Soup(veg)', 'Talumein Soup(veg)', 'Tom Yam Soup(veg)', 'Chicken Mushroom Soup(veg)', 'Tom Kha Soup(veg)', 'Clear Soup(non Veg)', 'Noodles Soup(non Veg)', 'Sweetcorn Soup(non Veg)', 'Manchow Soup(non Veg)', 'Hot & Sour Soup(non Veg)', 'Talumein Soup(non Veg)', 'Tom Yam Soup(non Veg)', 'Chicken Mushroom Soup(non Veg)', 'Tom Kha Soup(non Veg)', 'Chilli Garlic Veg Fried Rice', 'Chilli Garlic Egg Fried Rice', 'Chilli Garlic Prawns Fried Rice', 'Chilli Garlic Mix Fried Rice', 'Veg Fried Rice', 'Mushroom Fried Rice', 'Szechuan Veg Fried Rice', 'Ginger Capscicum Fried Rice', 'Singapore Veg Fried Rice', 'Thai Basil Rice', 'Nasi Goreng Rice', 'Egg Fried Rice', 'Szechuan Egg Fried Rice', 'Ginger Capscicum Eggfried Rice', 'Singapore Egg Fried Rice', 'Thai Basil Egg Rice', 'Nasi Goreng Egg Rice', 'Chicken Fried Rice', 'Szechuan Chicken Fried Rice', 'Ginger Capscicum Chicken Fried Rice', 'Chilli Garlic Chicken Fried Rice', 'Singapore Chicken Fried Rice', 'Thai Basil Chicken Rice', 'Nasi Goreng Chicken Rice', 'Prawns Fried Rice', 'Szechuan Prawn Fried Rice', 'Ginger Capscicum Prawns Fried Rice', 'Singapore Prawns Fried Rice', 'Thai Basil Prawns Rice', 'Nasi Goreng Prawns Rice', 'Mix Fried Rice', 'Szechuan Mix Fried Rice', 'Ginger Capscicum Mix Fried Rice', 'Singapore Mix Fried Rice', 'Thai Basil Mix Rice', 'Nasi Goreng Mix Rice', 'Chilli Garlic Veg Noodles', 'Chilli Garlic Egg Noodles', 'Chilli Garlic Prawns Noodles', 'Chilli Garlic Mix Noodles', 'Veg Noodles', 'Mushroom Noodles', 'Szechuan Veg Noodles', 'Ginger Capsicum Veg Noodles', 'Singapore Veg Noodles', 'Malaysian Noodles-veg', 'Thai Basil Noodles', 'Nasi Gereng Veg Noodles', 'Egg Noodles', 'Szechuan Egg Noodles', 'Ginger Capscicum Egg Noodles', 'Singapore Egg Noodles', 'Malaysian Noodles-egg', 'Thai Basil Egg Noodles', 'Nasi Gereng Egg Noodles', 'Chicken Noodles', 'Szechuan Chicken Noodles', 'Ginger Capscicum Chicken Noodles', 'Chilli Garlic Chicken Noodles', 'Singapore Chicken Noodles', 'Malaysian Noodles-chicken', 'Thai Basil Chicken Noodles', 'Nasi Gereng Chicken Noodles', 'Prawns Noodles', 'Szechuan Prawns Noodles', 'Ginger Capscicum Prawns Noodles', 'Singapore Prawns Noodles', 'Malaysian Noodles-prawn', 'Thai Basil Prawns Noodles', 'Nasi Gereng Prawns Noodles', 'Mix Noodles', 'Szechuan Mix Noodles', 'Ginger Capscicum Mix Noodles', 'Singapore Mix Noodles', 'Malaysian Noodles-mix', 'Thai Basil Mix Noodles', 'Nasi Gereng Mix Noodles', 'Paneer Manchurian', 'Veg Manchurian', 'Szechuan Vegetables', 'Babycorn Manchurian', 'Thai Red Curry-veg', 'Thai Red Curry-non Veg', 'Thai Green Curry-veg', 'Thai Green Curry-non Veg', 'Garlic Chicken', 'Chilli Chicken Gravy', 'Chicken Manchurian', 'Hunan Chicken', 'Szechuan Fish', 'Hunan Fish', 'Garlic Fish', 'Garlic Prawn', 'Paneer Steak Sizzler', 'Manchurian Sizzler', 'Paneer/mushroom Sizzler', 'Veg Mangolian Sizzler', 'Chicken Sizzler', 'Fish Sizzler', 'Prawn Sizzler', 'Veg Chinese Chopsuey', 'Chicken Chinese Chopsuey', 'Prawn Chinese Chopsuey', 'Mixed Chinese Chosuey', 'Veg American Chopsuey', 'Chicken American Chopsuey', 'Prawn American Chopsuey', 'Mixed American Chopsuey', 'Veg Combo', 'Soup Combo Rice', 'Fujian Combo Veg', 'Chicken Combo']\""
      ]
     },
     "execution_count": 66,
     "metadata": {},
     "output_type": "execute_result"
    }
   ],
   "source": [
    "df['menu_item'][1000]"
   ]
  },
  {
   "cell_type": "code",
   "execution_count": 67,
   "id": "e071e8bf",
   "metadata": {},
   "outputs": [],
   "source": [
    "df['menu_item']=df['menu_item'].apply(lambda x: cleaning(x))"
   ]
  },
  {
   "cell_type": "code",
   "execution_count": 68,
   "id": "6badcd48",
   "metadata": {},
   "outputs": [
    {
     "data": {
      "text/plain": [
       "'chocolate_fugeoreo_fudgelitchee_lakestrawberry_melbahouse_fullveg_rollsbaby_corn_rollstopped_nachoscheese_nachoscherry_berry gudbudlitchee_lakestrawberry_melbahouse_fullcandy_landmagical_landjelly_blastchocolate_fugealmond_fudgewalnut_honey_bunnycake_fudgecashew_fudgecaramel_crackle_fudgechocolate_mudsideoreo_fudgewilly_wonkaferrero_rocherbrownie_fudgewalnut_brownie_fudgegoing_nutsdeath_by_chocolatedevils_ownfudge_tubpineapple_cream_sundaeblack_forest_cream_sundae tiramisustrawberry_cream_sundaemango_cream_sundaevoltage_sundaelitche_sundaeomg_sundaeroyal_sundaestrawberry_milkshakechocolate_milkshakeoreo_milkshakemango_milkshakefrappe_cold_coffee_milkshakepista_milkshakeblack_current_milkshakemuddy_milkshake'"
      ]
     },
     "execution_count": 68,
     "metadata": {},
     "output_type": "execute_result"
    }
   ],
   "source": [
    "df['menu_item'][20000]"
   ]
  },
  {
   "cell_type": "code",
   "execution_count": 69,
   "id": "4addfb04",
   "metadata": {},
   "outputs": [
    {
     "data": {
      "text/plain": [
       "'combo  combo  combo  combo crispy_chilly_baby_cornamerican_corn_and_salt_and_pepperchilly_babycornmushroom_pepperpepper_chickenchilli_chickensalt_pepper_fishfried_wontons-vegcrispy_chilli_potatoszechuan_paneergobi_manchurianspring_rolls-non_vegthai_red_wingsthai_basil_chickendrums_of_heavendragon_chickensweet_and_spicy_crispy_chickenlemon_basil_chickenthai_fried_chickenfried_chicken_wingschicken_lollypopchicken_meat_ballszechuan_chickenpan_fry_chilly_fishszechuan_prawncrispy_fish_in_sweet_chilli_sauce_and_basilchinese_vealspicy_lemon_corriander_soup(veg)lemon_pepper_soup(non_veg)spicy_lemon_corriander_soup(non_veg)clear_soup(veg)noodles_soup(veg)lemon_pepper_soup(veg)sweetcorn_soup(veg)manchow_soup(veg)hot_&_sour_soup(veg)talumein_soup(veg)tom_yam_soup(veg)chicken_mushroom_soup(veg)tom_kha_soup(veg)clear_soup(non_veg)noodles_soup(non_veg)sweetcorn_soup(non_veg)manchow_soup(non_veg)hot_&_sour_soup(non_veg)talumein_soup(non_veg)tom_yam_soup(non_veg)chicken_mushroom_soup(non_veg)tom_kha_soup(non_veg)chilli_garlic_veg_fried_ricechilli_garlic_egg_fried_ricechilli_garlic_prawns_fried_ricechilli_garlic_mix_fried_riceveg_fried_ricemushroom_fried_riceszechuan_veg_fried_riceginger_capscicum_fried_ricesingapore_veg_fried_ricethai_basil_ricenasi_goreng_riceegg_fried_riceszechuan_egg_fried_riceginger_capscicum_eggfried_ricesingapore_egg_fried_ricethai_basil_egg_ricenasi_goreng_egg_ricechicken_fried_riceszechuan_chicken_fried_riceginger_capscicum_chicken_fried_ricechilli_garlic_chicken_fried_ricesingapore_chicken_fried_ricethai_basil_chicken_ricenasi_goreng_chicken_riceprawns_fried_riceszechuan_prawn_fried_riceginger_capscicum_prawns_fried_ricesingapore_prawns_fried_ricethai_basil_prawns_ricenasi_goreng_prawns_ricemix_fried_riceszechuan_mix_fried_riceginger_capscicum_mix_fried_ricesingapore_mix_fried_ricethai_basil_mix_ricenasi_goreng_mix_ricechilli_garlic_veg_noodleschilli_garlic_egg_noodleschilli_garlic_prawns_noodleschilli_garlic_mix_noodlesveg_noodlesmushroom_noodlesszechuan_veg_noodlesginger_capsicum_veg_noodlessingapore_veg_noodlesmalaysian_noodles-vegthai_basil_noodlesnasi_gereng_veg_noodlesegg_noodlesszechuan_egg_noodlesginger_capscicum_egg_noodlessingapore_egg_noodlesmalaysian_noodles-eggthai_basil_egg_noodlesnasi_gereng_egg_noodleschicken_noodlesszechuan_chicken_noodlesginger_capscicum_chicken_noodleschilli_garlic_chicken_noodlessingapore_chicken_noodlesmalaysian_noodles-chickenthai_basil_chicken_noodlesnasi_gereng_chicken_noodlesprawns_noodlesszechuan_prawns_noodlesginger_capscicum_prawns_noodlessingapore_prawns_noodlesmalaysian_noodles-prawnthai_basil_prawns_noodlesnasi_gereng_prawns_noodlesmix_noodlesszechuan_mix_noodlesginger_capscicum_mix_noodlessingapore_mix_noodlesmalaysian_noodles-mixthai_basil_mix_noodlesnasi_gereng_mix_noodlespaneer_manchurianveg_manchurianszechuan_vegetablesbabycorn_manchurianthai_red_curry-vegthai_red_curry-non_vegthai_green_curry-vegthai_green_curry-non_veggarlic_chickenchilli_chicken_gravychicken_manchurianhunan_chickenszechuan_fishhunan_fishgarlic_fishgarlic_prawnpaneer_steak_sizzlermanchurian_sizzlerpaneer/mushroom_sizzlerveg_mangolian_sizzlerchicken_sizzlerfish_sizzlerprawn_sizzlerveg_chinese_chopsueychicken_chinese_chopsueyprawn_chinese_chopsueymixed_chinese_chosueyveg_american_chopsueychicken_american_chopsueyprawn_american_chopsueymixed_american_chopsueyveg_combosoup_combo_ricefujian_combo_vegchicken_combo'"
      ]
     },
     "execution_count": 69,
     "metadata": {},
     "output_type": "execute_result"
    }
   ],
   "source": [
    "df['menu_item'][1000]"
   ]
  },
  {
   "cell_type": "code",
   "execution_count": 70,
   "id": "896c3209",
   "metadata": {},
   "outputs": [
    {
     "data": {
      "text/plain": [
       "39093"
      ]
     },
     "execution_count": 70,
     "metadata": {},
     "output_type": "execute_result"
    }
   ],
   "source": [
    "np.count_nonzero(df['menu_item']=='')"
   ]
  },
  {
   "cell_type": "code",
   "execution_count": 71,
   "id": "67180b4b",
   "metadata": {},
   "outputs": [],
   "source": [
    "#Around 39093 rows in menu_item column has '' replacing them with unkonwn"
   ]
  },
  {
   "cell_type": "code",
   "execution_count": 72,
   "id": "4b49a945",
   "metadata": {},
   "outputs": [],
   "source": [
    "for i in range(len(df['menu_item'])):\n",
    "    if df['menu_item'][i]=='':\n",
    "        df['menu_item'][i]='unknown'"
   ]
  },
  {
   "cell_type": "code",
   "execution_count": 73,
   "id": "91d54344",
   "metadata": {},
   "outputs": [
    {
     "data": {
      "text/plain": [
       "Index(['index', 'name', 'online_order', 'book_table', 'rate', 'votes',\n",
       "       'location', 'rest_type', 'dish_liked', 'cuisines',\n",
       "       'approx_cost(for two people)', 'reviews_list', 'menu_item',\n",
       "       'listed_in(type)', 'listed_in(city)'],\n",
       "      dtype='object')"
      ]
     },
     "execution_count": 73,
     "metadata": {},
     "output_type": "execute_result"
    }
   ],
   "source": [
    "df.columns"
   ]
  },
  {
   "cell_type": "markdown",
   "id": "32011e7f",
   "metadata": {},
   "source": [
    "#### done with cleaning process now our data is ready fofr further analysis"
   ]
  },
  {
   "cell_type": "code",
   "execution_count": 74,
   "id": "8d7e4eed",
   "metadata": {},
   "outputs": [
    {
     "data": {
      "text/plain": [
       "(51148, 15)"
      ]
     },
     "execution_count": 74,
     "metadata": {},
     "output_type": "execute_result"
    }
   ],
   "source": [
    "df.shape"
   ]
  },
  {
   "cell_type": "code",
   "execution_count": 77,
   "id": "5a8c5d3d",
   "metadata": {},
   "outputs": [],
   "source": [
    "#Now we are saving the cleaned data, so that we don't need to re run the above cells again. \n",
    "# We can use these cleaned saved file for further analysis.\n",
    "df.to_csv(\"cleaned_data.csv\")"
   ]
  },
  {
   "cell_type": "code",
   "execution_count": null,
   "id": "39af16f8",
   "metadata": {},
   "outputs": [],
   "source": []
  }
 ],
 "metadata": {
  "kernelspec": {
   "display_name": "Python 3 (ipykernel)",
   "language": "python",
   "name": "python3"
  },
  "language_info": {
   "codemirror_mode": {
    "name": "ipython",
    "version": 3
   },
   "file_extension": ".py",
   "mimetype": "text/x-python",
   "name": "python",
   "nbconvert_exporter": "python",
   "pygments_lexer": "ipython3",
   "version": "3.9.7"
  }
 },
 "nbformat": 4,
 "nbformat_minor": 5
}
